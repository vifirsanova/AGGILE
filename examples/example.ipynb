{
  "nbformat": 4,
  "nbformat_minor": 0,
  "metadata": {
    "colab": {
      "provenance": [],
      "authorship_tag": "ABX9TyPi6xr30mZiTwkUWkyEo3Dh",
      "include_colab_link": true
    },
    "kernelspec": {
      "name": "python3",
      "display_name": "Python 3"
    },
    "language_info": {
      "name": "python"
    }
  },
  "cells": [
    {
      "cell_type": "markdown",
      "metadata": {
        "id": "view-in-github",
        "colab_type": "text"
      },
      "source": [
        "<a href=\"https://colab.research.google.com/github/vifirsanova/AGGILE/blob/main/draft.ipynb\" target=\"_parent\"><img src=\"https://colab.research.google.com/assets/colab-badge.svg\" alt=\"Open In Colab\"/></a>"
      ]
    },
    {
      "cell_type": "code",
      "execution_count": null,
      "metadata": {
        "id": "WF9GXUvcBiqP"
      },
      "outputs": [],
      "source": [
        "!pip install wikipedia -q\n",
        "\n",
        "import wikipedia\n",
        "\n",
        "text = wikipedia.page(\"Mathematics\").content"
      ]
    },
    {
      "cell_type": "code",
      "source": [
        "text"
      ],
      "metadata": {
        "colab": {
          "base_uri": "https://localhost:8080/",
          "height": 126
        },
        "id": "m11FwN6ZB4PY",
        "outputId": "da562c9f-633a-4ef4-c3cd-7d17509847c1"
      },
      "execution_count": 5,
      "outputs": [
        {
          "output_type": "execute_result",
          "data": {
            "text/plain": [
              "'Mathematics is a field of study that discovers and organizes methods, theories and theorems that are developed and proved for the needs of empirical sciences and mathematics itself. There are many areas of mathematics, which include number theory (the study of numbers), algebra (the study of formulas and related structures), geometry (the study of shapes and spaces that contain them), analysis (the study of continuous changes), and set theory (presently used as a foundation for all mathematics).\\nMathematics involves the description and manipulation of abstract objects that consist of either abstractions from nature or—in modern mathematics—purely abstract entities that are stipulated to have certain properties, called axioms.  Mathematics uses pure reason to prove properties of objects, a proof consisting of a succession of applications of deductive rules to already established results. These results include previously proved theorems, axioms, and—in case of abstraction from nature—some basic properties that are considered true starting points of the theory under consideration.\\nMathematics is essential in the natural sciences, engineering, medicine, finance, computer science, and the social sciences. Although mathematics is extensively used for modeling phenomena, the fundamental truths of mathematics are independent of any scientific experimentation. Some areas of mathematics, such as statistics and game theory, are developed in close correlation with their applications and are often grouped under applied mathematics. Other areas are developed independently from any application (and are therefore called pure mathematics) but often later find practical applications.\\nHistorically, the concept of a proof and its associated mathematical rigour first appeared in Greek mathematics, most notably in Euclid\\'s Elements. Since its beginning, mathematics was primarily divided into geometry and arithmetic (the manipulation of natural numbers and fractions), until the 16th and 17th centuries, when algebra and infinitesimal calculus were introduced as new fields. Since then, the interaction between mathematical innovations and scientific discoveries has led to a correlated increase in the development of both. At the end of the 19th century, the foundational crisis of mathematics led to the systematization of the axiomatic method, which heralded a dramatic increase in the number of mathematical areas and their fields of application. The contemporary Mathematics Subject Classification lists more than sixty first-level areas of mathematics.\\n\\n\\n== Areas of mathematics ==\\n\\nBefore the Renaissance, mathematics was divided into two main areas: arithmetic, regarding the manipulation of numbers, and geometry, regarding the study of shapes. Some types of pseudoscience, such as numerology and astrology, were not then clearly distinguished from mathematics.\\nDuring the Renaissance, two more areas appeared. Mathematical notation led to algebra which, roughly speaking, consists of the study and the manipulation of formulas. Calculus, consisting of the two subfields differential calculus and integral calculus, is the study of continuous functions, which model the typically nonlinear relationships between varying quantities, as represented by variables. This division into four main areas—arithmetic, geometry, algebra, and calculus—endured until the end of the 19th century. Areas such as celestial mechanics and solid mechanics were then studied by mathematicians, but now are considered as belonging to physics. The subject of combinatorics has been studied for much of recorded history, yet did not become a separate branch of mathematics until the seventeenth century.\\nAt the end of the 19th century, the foundational crisis in mathematics and the resulting systematization of the axiomatic method led to an explosion of new areas of mathematics. The 2020 Mathematics Subject Classification contains no less than sixty-three first-level areas. Some of these areas correspond to the older division, as is true regarding number theory (the modern name for higher arithmetic) and geometry. Several other first-level areas have \"geometry\" in their names or are otherwise commonly considered part of geometry. Algebra and calculus do not appear as first-level areas but are respectively split into several first-level areas. Other first-level areas emerged during the 20th century or had not previously been considered as mathematics, such as mathematical logic and foundations.\\n\\n\\n=== Number theory ===\\n\\nNumber theory began with the manipulation of numbers, that is, natural numbers \\n  \\n    \\n      \\n        (\\n        \\n          N\\n        \\n        )\\n        ,\\n      \\n    \\n    {\\\\displaystyle (\\\\mathbb {N} ),}\\n  \\n and later expanded to integers \\n  \\n    \\n      \\n        (\\n        \\n          Z\\n        \\n        )\\n      \\n    \\n    {\\\\displaystyle (\\\\mathbb {Z} )}\\n  \\n and rational numbers \\n  \\n    \\n      \\n        (\\n        \\n          Q\\n        \\n        )\\n        .\\n      \\n    \\n    {\\\\displaystyle (\\\\mathbb {Q} ).}\\n  \\n Number theory was once called arithmetic, but nowadays this term is mostly used for numerical calculations. Number theory dates back to ancient Babylon and probably China. Two prominent early number theorists were Euclid of ancient Greece and Diophantus of Alexandria. The modern study of number theory in its abstract form is largely attributed to Pierre de Fermat and Leonhard Euler. The field came to full fruition with the contributions of Adrien-Marie Legendre and Carl Friedrich Gauss.\\nMany easily stated number problems have solutions that require sophisticated methods, often from across mathematics. A prominent example is Fermat\\'s Last Theorem. This conjecture was stated in 1637 by Pierre de Fermat, but it was proved only in 1994 by Andrew Wiles, who used tools including scheme theory from algebraic geometry, category theory, and homological algebra. Another example is Goldbach\\'s conjecture, which asserts that every even integer greater than 2 is the sum of two prime numbers. Stated in 1742 by Christian Goldbach, it remains unproven despite considerable effort.\\nNumber theory includes several subareas, including analytic number theory, algebraic number theory, geometry of numbers (method oriented), diophantine equations, and transcendence theory (problem oriented).\\n\\n\\n=== Geometry ===\\n\\nGeometry is one of the oldest branches of mathematics. It started with empirical recipes concerning shapes, such as lines, angles and circles, which were developed mainly for the needs of surveying and architecture, but has since blossomed out into many other subfields.\\nA fundamental innovation was the ancient Greeks\\' introduction of the concept of proofs, which require that every assertion must be proved. For example, it is not sufficient to verify by measurement that, say, two lengths are equal; their equality must be proven via reasoning from previously accepted results (theorems) and a few basic statements. The basic statements are not subject to proof because they are self-evident (postulates), or are part of the definition of the subject of study (axioms). This principle, foundational for all mathematics, was first elaborated for geometry, and was systematized by Euclid around 300 BC in his book Elements.\\nThe resulting Euclidean geometry is the study of shapes and their arrangements constructed from lines, planes and circles in the Euclidean plane (plane geometry) and the three-dimensional Euclidean space.\\nEuclidean geometry was developed without change of methods or scope until the 17th century, when René Descartes introduced what is now called Cartesian coordinates. This constituted a major change of paradigm: Instead of defining real numbers as lengths of line segments (see number line), it allowed the representation of points using their coordinates, which are numbers. Algebra (and later, calculus) can thus be used to solve geometrical problems. Geometry was split into two new subfields: synthetic geometry, which uses purely geometrical methods, and analytic geometry, which uses coordinates systemically.\\nAnalytic geometry allows the study of curves unrelated to circles and lines. Such curves can be defined as the graph of functions, the study of which led to differential geometry. They can also be defined as implicit equations, often polynomial equations (which spawned algebraic geometry). Analytic geometry also makes it possible to consider Euclidean spaces of higher than three dimensions.\\nIn the 19th century, mathematicians discovered non-Euclidean geometries, which do not follow the parallel postulate. By questioning that postulate\\'s truth, this discovery has been viewed as joining Russell\\'s paradox in revealing the foundational crisis of mathematics. This aspect of the crisis was solved by systematizing the axiomatic method, and adopting that the truth of the chosen axioms is not a mathematical problem. In turn, the axiomatic method allows for the study of various geometries obtained either by changing the axioms or by considering properties that do not change under specific transformations of the space.\\nToday\\'s subareas of geometry include:\\n\\nProjective geometry, introduced in the 16th century by Girard Desargues, extends Euclidean geometry by adding points at infinity at which parallel lines intersect. This simplifies many aspects of classical geometry by unifying the treatments for intersecting and parallel lines.\\nAffine geometry, the study of properties relative to parallelism and independent from the concept of length.\\nDifferential geometry, the study of curves, surfaces, and their generalizations, which are defined using differentiable functions.\\nManifold theory, the study of shapes that are not necessarily embedded in a larger space.\\nRiemannian geometry, the study of distance properties in curved spaces.\\nAlgebraic geometry, the study of curves, surfaces, and their generalizations, which are defined using polynomials.\\nTopology, the study of properties that are kept under continuous deformations.\\nAlgebraic topology, the use in topology of algebraic methods, mainly homological algebra.\\nDiscrete geometry, the study of finite configurations in geometry.\\nConvex geometry, the study of convex sets, which takes its importance from its applications in optimization.\\nComplex geometry, the geometry obtained by replacing real numbers with complex numbers.\\n\\n\\n=== Algebra ===\\n\\n  \\nAlgebra is the art of manipulating equations and formulas. Diophantus (3rd century) and al-Khwarizmi (9th century) were the two main precursors of algebra. Diophantus solved some equations involving unknown natural numbers by deducing new relations until he obtained the solution. Al-Khwarizmi introduced systematic methods for transforming equations, such as moving a term from one side of an equation into the other side. The term algebra is derived from the Arabic word al-jabr meaning \\'the reunion of broken parts\\' that he used for naming one of these methods in the title of his main treatise.\\nAlgebra became an area in its own right only with François Viète (1540–1603), who introduced the use of variables for representing unknown or unspecified numbers. Variables allow mathematicians to describe the operations that have to be done on the numbers represented using mathematical formulas.\\nUntil the 19th century, algebra consisted mainly of the study of linear equations (presently linear algebra), and polynomial equations in a single unknown, which were called algebraic equations (a term still in use, although it may be ambiguous). During the 19th century, mathematicians began to use variables to represent things other than numbers (such as matrices, modular integers, and geometric transformations), on which generalizations of arithmetic operations are often valid. The concept of algebraic structure addresses this, consisting of a set whose elements are unspecified, of operations acting on the elements of the set, and rules that these operations must follow. The scope of algebra thus grew to include the study of algebraic structures. This object of algebra was called modern algebra or abstract algebra, as established by the influence and works of Emmy Noether.\\nSome types of algebraic structures have useful and often fundamental properties, in many areas of mathematics. Their study became autonomous parts of algebra, and include:\\n\\ngroup theory\\nfield theory\\nvector spaces, whose study is essentially the same as linear algebra\\nring theory\\ncommutative algebra, which is the study of commutative rings, includes the study of polynomials, and is a foundational part of algebraic geometry\\nhomological algebra\\nLie algebra and Lie group theory\\nBoolean algebra, which is widely used for the study of the logical structure of computers\\nThe study of types of algebraic structures as mathematical objects is the purpose of universal algebra and category theory. The latter applies to every mathematical structure (not only algebraic ones). At its origin, it was introduced, together with homological algebra for allowing the algebraic study of non-algebraic objects such as topological spaces; this particular area of application is called algebraic topology.\\n\\n\\n=== Calculus and analysis ===\\n\\nCalculus, formerly called infinitesimal calculus, was introduced independently and simultaneously by 17th-century mathematicians Newton and Leibniz. It is fundamentally the study of the relationship of variables that depend on each other. Calculus was expanded in the 18th century by Euler with the introduction of the concept of a function and many other results. Presently, \"calculus\" refers mainly to the elementary part of this theory, and \"analysis\" is commonly used for advanced parts.\\nAnalysis is further subdivided into real analysis, where variables represent real numbers, and complex analysis, where variables represent complex numbers. Analysis includes many subareas shared by other areas of mathematics which include:\\n\\nMultivariable calculus\\nFunctional analysis, where variables represent varying functions\\nIntegration, measure theory and potential theory, all strongly related with probability theory on a continuum\\nOrdinary differential equations\\nPartial differential equations\\nNumerical analysis, mainly devoted to the computation on computers of solutions of ordinary and partial differential equations that arise in many applications\\n\\n\\n=== Discrete mathematics ===\\n\\nDiscrete mathematics, broadly speaking, is the study of individual, countable mathematical objects. An example is the set of all integers. Because the objects of study here are discrete, the methods of calculus and mathematical analysis do not directly apply. Algorithms—especially their implementation and computational complexity—play a major role in discrete mathematics.\\nThe four color theorem and optimal sphere packing were two major problems of discrete mathematics solved in the second half of the 20th century. The P versus NP problem, which remains open to this day, is also important for discrete mathematics, since its solution would potentially impact a large number of computationally difficult problems.\\nDiscrete mathematics includes:\\n\\nCombinatorics, the art of enumerating mathematical objects that satisfy some given constraints. Originally, these objects were elements or subsets of a given set; this has been extended to various objects, which establishes a strong link between combinatorics and other parts of discrete mathematics. For example, discrete geometry includes counting configurations of geometric shapes.\\nGraph theory and hypergraphs\\nCoding theory, including error correcting codes and a part of cryptography\\nMatroid theory\\nDiscrete geometry\\nDiscrete probability distributions\\nGame theory (although continuous games are also studied, most common games, such as chess and poker are discrete)\\nDiscrete optimization, including combinatorial optimization, integer programming, constraint programming\\n\\n\\n=== Mathematical logic and set theory ===\\n\\nThe two subjects of mathematical logic and set theory have belonged to mathematics since the end of the 19th century. Before this period, sets were not considered to be mathematical objects, and logic, although used for mathematical proofs, belonged to philosophy and was not specifically studied by mathematicians.\\nBefore Cantor\\'s study of infinite sets, mathematicians were reluctant to consider actually infinite collections, and considered infinity to be the result of endless enumeration. Cantor\\'s work offended many mathematicians not only by considering actually infinite sets but by showing that this implies different sizes of infinity, per Cantor\\'s diagonal argument. This led to the controversy over Cantor\\'s set theory. In the same period, various areas of mathematics concluded the former intuitive definitions of the basic mathematical objects were insufficient for ensuring mathematical rigour.\\nThis became the foundational crisis of mathematics. It was eventually solved in mainstream mathematics by systematizing the axiomatic method inside a formalized set theory. Roughly speaking, each mathematical object is defined by the set of all similar objects and the properties that these objects must have. For example, in Peano arithmetic, the natural numbers are defined by \"zero is a number\", \"each number has a unique successor\", \"each number but zero has a unique predecessor\", and some rules of reasoning. This mathematical abstraction from reality is embodied in the modern philosophy of formalism, as founded by David Hilbert around 1910.\\nThe \"nature\" of the objects defined this way is a philosophical problem that mathematicians leave to philosophers, even if many mathematicians have opinions on this nature, and use their opinion—sometimes called \"intuition\"—to guide their study and proofs. The approach allows considering \"logics\" (that is, sets of allowed deducing rules), theorems, proofs, etc. as mathematical objects, and to prove theorems about them. For example, Gödel\\'s incompleteness theorems assert, roughly speaking that, in every consistent formal system that contains the natural numbers, there are theorems that are true (that is provable in a stronger system), but not provable inside the system. This approach to the foundations of mathematics was challenged during the first half of the 20th century by mathematicians led by Brouwer, who promoted intuitionistic logic, which explicitly lacks the law of excluded middle.\\nThese problems and debates led to a wide expansion of mathematical logic, with subareas such as model theory (modeling some logical theories inside other theories), proof theory, type theory, computability theory and computational complexity theory. Although these aspects of mathematical logic were introduced before the rise of computers, their use in compiler design, formal verification, program analysis, proof assistants and other aspects of computer science, contributed in turn to the expansion of these logical theories.\\n\\n\\n=== Statistics and other decision sciences ===\\n\\nThe field of statistics is a mathematical application that is employed for the collection and processing of data samples, using procedures based on mathematical methods especially probability theory. Statisticians generate data with random sampling or randomized experiments.\\nStatistical theory studies decision problems such as minimizing the risk (expected loss) of a statistical action, such as using a procedure in, for example, parameter estimation, hypothesis testing, and selecting the best. In these traditional areas of mathematical statistics, a statistical-decision problem is formulated by minimizing an objective function, like expected loss or cost, under specific constraints. For example, designing a survey often involves minimizing the cost of estimating a population mean with a given level of confidence. Because of its use of optimization, the mathematical theory of statistics overlaps with other decision sciences, such as operations research, control theory, and mathematical economics.\\n\\n\\n=== Computational mathematics ===\\n\\nComputational mathematics is the study of mathematical problems that are typically too large for human, numerical capacity. Numerical analysis studies methods for problems in analysis using functional analysis and approximation theory; numerical analysis broadly includes the study of approximation and discretization with special focus on rounding errors. Numerical analysis and, more broadly, scientific computing also study non-analytic topics of mathematical science, especially algorithmic-matrix-and-graph theory. Other areas of computational mathematics include computer algebra and symbolic computation.\\n\\n\\n== History ==\\n\\n\\n=== Etymology ===\\nThe word mathematics comes from the Ancient Greek word máthēma (μάθημα), meaning \\'something learned, knowledge, mathematics\\', and the derived expression mathēmatikḗ tékhnē (μαθηματικὴ τέχνη), meaning \\'mathematical science\\'. It entered the English language during the Late Middle English period through French and Latin. \\nSimilarly, one of the two main schools of thought in Pythagoreanism was known as the mathēmatikoi (μαθηματικοί)—which at the time meant \"learners\" rather than \"mathematicians\" in the modern sense. The Pythagoreans were likely the first to constrain the use of the word to just the study of arithmetic and geometry. By the time of Aristotle (384–322 BC) this meaning was fully established.\\nIn Latin and English, until around 1700, the term mathematics more commonly meant \"astrology\" (or sometimes \"astronomy\") rather than \"mathematics\"; the meaning gradually changed to its present one from about 1500 to 1800. This change has resulted in several mistranslations: For example, Saint Augustine\\'s warning that Christians should beware of mathematici, meaning \"astrologers\", is sometimes mistranslated as a condemnation of mathematicians.\\nThe apparent plural form in English goes back to the Latin neuter plural mathematica (Cicero), based on the Greek plural ta mathēmatiká (τὰ μαθηματικά) and means roughly \"all things mathematical\", although it is plausible that English borrowed only the adjective mathematic(al) and formed the noun mathematics anew, after the pattern of physics and metaphysics, inherited from Greek. In English, the noun mathematics takes a singular verb. It is often shortened to maths or, in North America, math.\\n\\n\\n=== Ancient ===\\n\\nIn addition to recognizing how to count physical objects, prehistoric peoples may have also known how to count abstract quantities, like time—days, seasons, or years. Evidence for more complex mathematics does not appear until around 3000 BC, when the Babylonians and Egyptians began using arithmetic, algebra, and geometry for taxation and other financial calculations, for building and construction, and for astronomy. The oldest mathematical texts from Mesopotamia and Egypt are from 2000 to 1800 BC. Many early texts mention Pythagorean triples and so, by inference, the Pythagorean theorem seems to be the most ancient and widespread mathematical concept after basic arithmetic and geometry. It is in Babylonian mathematics that elementary arithmetic (addition, subtraction, multiplication, and division) first appear in the archaeological record. The Babylonians also possessed a place-value system and used a sexagesimal numeral system which is still in use today for measuring angles and time.\\nIn the 6th century BC, Greek mathematics began to emerge as a distinct discipline and some Ancient Greeks such as the Pythagoreans appeared to have considered it a subject in its own right. Around 300 BC, Euclid organized mathematical knowledge by way of postulates and first principles, which evolved into the axiomatic method that is used in mathematics today, consisting of definition, axiom, theorem, and proof. His book, Elements, is widely considered the most successful and influential textbook of all time. The greatest mathematician of antiquity is often held to be Archimedes (c.\\u2009287 – c.\\u2009212 BC) of Syracuse. He developed formulas for calculating the surface area and volume of solids of revolution and used the method of exhaustion to calculate the area under the arc of a parabola with the summation of an infinite series, in a manner not too dissimilar from modern calculus. Other notable achievements of Greek mathematics are conic sections (Apollonius of Perga, 3rd century BC), trigonometry (Hipparchus of Nicaea, 2nd century BC), and the beginnings of algebra (Diophantus, 3rd century AD).\\n\\nThe Hindu–Arabic numeral system and the rules for the use of its operations, in use throughout the world today, evolved over the course of the first millennium AD in India and were transmitted to the Western world via Islamic mathematics. Other notable developments of Indian mathematics include the modern definition and approximation of sine and cosine, and an early form of infinite series.\\n\\n\\n=== Medieval and later ===\\n\\nDuring the Golden Age of Islam, especially during the 9th and 10th centuries, mathematics saw many important innovations building on Greek mathematics. The most notable achievement of Islamic mathematics was the development of algebra. Other achievements of the Islamic period include advances in spherical trigonometry and the addition of the decimal point to the Arabic numeral system. Many notable mathematicians from this period were Persian, such as Al-Khwarizmi, Omar Khayyam and Sharaf al-Dīn al-Ṭūsī. The Greek and Arabic mathematical texts were in turn translated to Latin during the Middle Ages and made available in Europe.\\nDuring the early modern period, mathematics began to develop at an accelerating pace in Western Europe, with innovations that revolutionized mathematics, such as the introduction of variables and symbolic notation by François Viète (1540–1603), the introduction of logarithms by John Napier in 1614, which greatly simplified numerical calculations, especially for astronomy and marine navigation, the introduction of coordinates by René Descartes (1596–1650) for reducing geometry to algebra, and the development of calculus by Isaac Newton (1643–1727) and Gottfried Leibniz (1646–1716). Leonhard Euler (1707–1783), the most notable mathematician of the 18th century, unified these innovations into a single corpus with a standardized terminology, and completed them with the discovery and the proof of numerous theorems.\\n\\nPerhaps the foremost mathematician of the 19th century was the German mathematician Carl Gauss, who made numerous contributions to fields such as algebra, analysis, differential geometry, matrix theory, number theory, and statistics. In the early 20th century, Kurt Gödel transformed mathematics by publishing his incompleteness theorems, which show in part that any consistent axiomatic system—if powerful enough to describe arithmetic—will contain true propositions that cannot be proved.\\nMathematics has since been greatly extended, and there has been a fruitful interaction between mathematics and science, to the benefit of both. Mathematical discoveries continue to be made to this very day. According to Mikhail B. Sevryuk, in the January 2006 issue of the Bulletin of the American Mathematical Society, \"The number of papers and books included in the Mathematical Reviews (MR) database since 1940 (the first year of operation of MR) is now more than 1.9 million, and more than 75 thousand items are added to the database each year. The overwhelming majority of works in this ocean contain new mathematical theorems and their proofs.\"\\n\\n\\n== Symbolic notation and terminology ==\\n\\nMathematical notation is widely used in science and engineering for representing complex concepts and properties in a concise, unambiguous, and accurate way. This notation consists of symbols used for representing operations, unspecified numbers, relations and any other mathematical objects, and then assembling them into expressions and formulas. More precisely, numbers and other mathematical objects are represented by symbols called variables, which are generally Latin or Greek letters, and often include subscripts. Operation and relations are generally represented by specific symbols or glyphs, such as + (plus), × (multiplication), \\n  \\n    \\n      \\n        ∫\\n      \\n    \\n    {\\\\textstyle \\\\int }\\n  \\n (integral), = (equal), and < (less than). All these symbols are generally grouped according to specific rules to form expressions and formulas. Normally, expressions and formulas do not appear alone, but are included in sentences of the current language, where expressions play the role of noun phrases and formulas play the role of clauses.\\nMathematics has developed a rich terminology covering a broad range of fields that study the properties of various abstract, idealized objects and how they interact. It is based on rigorous definitions that provide a standard foundation for communication. An axiom or postulate is a mathematical statement that is taken to be true without need of proof. If a mathematical statement has yet to be proven (or disproven), it is termed a conjecture. Through a series of rigorous arguments employing deductive reasoning, a statement that is proven to be true becomes a theorem. A specialized theorem that is mainly used to prove another theorem is called a lemma. A proven instance that forms part of a more general finding is termed a corollary.\\nNumerous technical terms used in mathematics are neologisms, such as polynomial and homeomorphism. Other technical terms are words of the common language that are used in an accurate meaning that may differ slightly from their common meaning. For example, in mathematics, \"or\" means \"one, the other or both\", while, in common language, it is either ambiguous or means \"one or the other but not both\" (in mathematics, the latter is called \"exclusive or\"). Finally, many mathematical terms are common words that are used with a completely different meaning. This may lead to sentences that are correct and true mathematical assertions, but appear to be nonsense to people who do not have the required background. For example, \"every free module is flat\" and \"a field is always a ring\".\\n\\n\\n== Relationship with sciences ==\\nMathematics is used in most sciences for modeling phenomena, which then allows predictions to be made from experimental laws. The independence of mathematical truth from any experimentation implies that the accuracy of such predictions depends only on the adequacy of the model. Inaccurate predictions, rather than being caused by invalid mathematical concepts, imply the need to change the mathematical model used. For example, the perihelion precession of Mercury could only be explained after the emergence of Einstein\\'s general relativity, which replaced Newton\\'s law of gravitation as a better mathematical model.\\nThere is still a philosophical debate whether mathematics is a science. However, in practice, mathematicians are typically grouped with scientists, and mathematics shares much in common with the physical sciences. Like them, it is falsifiable, which means in mathematics that, if a result or a theory is wrong, this can be proved by providing a counterexample. Similarly as in science, theories and results (theorems) are often obtained from experimentation. In mathematics, the experimentation may consist of computation on selected examples or of the study of figures or other representations of mathematical objects (often mind representations without physical support). For example, when asked how he came about his theorems, Gauss once replied \"durch planmässiges Tattonieren\" (through systematic experimentation). However, some authors emphasize that mathematics differs from the modern notion of science by not relying on empirical evidence.\\n\\n\\n=== Pure and applied mathematics ===\\n\\nUntil the 19th century, the development of mathematics in the West was mainly motivated by the needs of technology and science, and there was no clear distinction between pure and applied mathematics. For example, the natural numbers and arithmetic were introduced for the need of counting, and geometry was motivated by surveying, architecture and astronomy. Later, Isaac Newton introduced infinitesimal calculus for explaining the movement of the planets with his law of gravitation. Moreover, most mathematicians were also scientists, and many scientists were also mathematicians. However, a notable exception occurred with the tradition of pure mathematics in Ancient Greece. The problem of integer factorization, for example, which goes back to Euclid in 300 BC, had no practical application before its use in the RSA cryptosystem, now widely used for the security of computer networks.\\nIn the 19th century, mathematicians such as Karl Weierstrass and Richard Dedekind increasingly focused their research on internal problems, that is, pure mathematics. This led to split mathematics into pure mathematics and applied mathematics, the latter being often considered as having a lower value among mathematical purists. However, the lines between the two are frequently blurred.\\nThe aftermath of World War II led to a surge in the development of applied mathematics in the US and elsewhere. Many of the theories developed for applications were found interesting from the point of view of pure mathematics, and many results of pure mathematics were shown to have applications outside mathematics; in turn, the study of these applications may give new insights on the \"pure theory\".\\nAn example of the first case is the theory of distributions, introduced by Laurent Schwartz for validating computations done in quantum mechanics, which became immediately an important tool of (pure) mathematical analysis. An example of the second case is the decidability of the first-order theory of the real numbers, a problem of pure mathematics that was proved true by Alfred Tarski, with an algorithm that is impossible to implement because of a computational complexity that is much too high. For getting an algorithm that can be implemented and can solve systems of polynomial equations and inequalities, George Collins introduced the cylindrical algebraic decomposition that became a fundamental tool in real algebraic geometry.\\nIn the present day, the distinction between pure and applied mathematics is more a question of personal research aim of mathematicians than a division of mathematics into broad areas. The Mathematics Subject Classification has a section for \"general applied mathematics\" but does not mention \"pure mathematics\". However, these terms are still used in names of some university departments, such as at the Faculty of Mathematics at the University of Cambridge.\\n\\n\\n=== Unreasonable effectiveness ===\\nThe unreasonable effectiveness of mathematics is a phenomenon that was named and first made explicit by physicist Eugene Wigner. It is the fact that many mathematical theories (even the \"purest\") have applications outside their initial object. These applications may be completely outside their initial area of mathematics, and may concern physical phenomena that were completely unknown when the mathematical theory was introduced. Examples of unexpected applications of mathematical theories can be found in many areas of mathematics.\\nA notable example is the prime factorization of natural numbers that was discovered more than 2,000 years before its common use for secure internet communications through the RSA cryptosystem. A second historical example is the theory of ellipses. They were studied by the ancient Greek mathematicians as conic sections (that is, intersections of cones with planes). It was almost 2,000 years later that Johannes Kepler discovered that the trajectories of the planets are ellipses.\\nIn the 19th century, the internal development of geometry (pure mathematics) led to definition and study of non-Euclidean geometries, spaces of dimension higher than three and manifolds. At this time, these concepts seemed totally disconnected from the physical reality, but at the beginning of the 20th century, Albert Einstein developed the theory of relativity that uses fundamentally these concepts. In particular, spacetime of special relativity is a non-Euclidean space of dimension four, and spacetime of general relativity is a (curved) manifold of dimension four.\\nA striking aspect of the interaction between mathematics and physics is when mathematics drives research in physics. This is illustrated by the discoveries of the positron and the baryon \\n  \\n    \\n      \\n        \\n          Ω\\n          \\n            −\\n          \\n        \\n        .\\n      \\n    \\n    {\\\\displaystyle \\\\Omega ^{-}.}\\n  \\n In both cases, the equations of the theories had unexplained solutions, which led to conjecture of the existence of an unknown particle, and the search for these particles. In both cases, these particles were discovered a few years later by specific experiments.\\n\\n\\n=== Specific sciences ===\\n\\n\\n==== Physics ====\\n\\nMathematics and physics have influenced each other over their modern history. Modern physics uses mathematics abundantly, and is also considered to be the motivation of major mathematical developments.\\n\\n\\n==== Computing ====\\n\\nComputing is closely related to mathematics in several ways. Theoretical computer science is considered to be mathematical in nature. Communication technologies apply branches of mathematics that may be very old (e.g., arithmetic), especially with respect to transmission security, in cryptography and coding theory. Discrete mathematics is useful in many areas of computer science, such as complexity theory, information theory, and graph theory. In 1998, the Kepler conjecture on sphere packing seemed to also be partially proven by computer.\\n\\n\\n==== Biology and chemistry ====\\n\\nBiology uses probability extensively in fields such as ecology or neurobiology.  Most discussion of probability centers on the concept of evolutionary fitness. Ecology heavily uses modeling to simulate population dynamics, study ecosystems such as the predator-prey model, measure pollution diffusion, or to assess climate change. The dynamics of a population can be modeled by coupled differential equations, such as the Lotka–Volterra equations.\\nStatistical hypothesis testing, is run on data from clinical trials to determine whether a new treatment works. Since the start of the 20th century, chemistry has used computing to model molecules in three dimensions.\\n\\n\\n==== Earth sciences ====\\n\\nStructural geology and climatology use probabilistic models to predict the risk of natural catastrophes. Similarly, meteorology, oceanography, and planetology also use mathematics due to their heavy use of models.\\n\\n\\n==== Social sciences ====\\n\\nAreas of mathematics used in the social sciences include probability/statistics and differential equations. These are used in linguistics, economics, sociology, and psychology.\\n\\nOften the fundamental postulate of mathematical economics is that of the rational individual actor – Homo economicus (lit.\\u2009\\'economic man\\'). In this model, the individual seeks to maximize their self-interest, and always makes optimal choices using perfect information. This atomistic view of economics allows it to relatively easily mathematize its thinking, because individual calculations are transposed into mathematical calculations. Such mathematical modeling allows one to probe economic mechanisms. Some reject or criticise the concept of Homo economicus. Economists note that real people have limited information, make poor choices and care about fairness, altruism, not just personal gain.\\nWithout mathematical modeling, it is hard to go beyond statistical observations or untestable speculation. Mathematical modeling allows economists to create structured frameworks to test hypotheses and analyze complex interactions. Models provide clarity and precision, enabling the translation of theoretical concepts into quantifiable predictions that can be tested against real-world data.\\nAt the start of the 20th century, there was a development to express historical movements in formulas. In 1922, Nikolai Kondratiev discerned the ~50-year-long Kondratiev cycle, which explains phases of economic growth or crisis. Towards the end of the 19th century, mathematicians extended their analysis into geopolitics. Peter Turchin developed cliodynamics since the 1990s.\\nMathematization of the social sciences is not without risk. In the controversial book Fashionable Nonsense (1997), Sokal and Bricmont denounced the unfounded or abusive use of scientific terminology, particularly from mathematics or physics, in the social sciences. The study of complex systems (evolution of unemployment, business capital, demographic evolution of a population, etc.) uses mathematical knowledge. However, the choice of counting criteria, particularly for unemployment, or of models, can be subject to controversy.\\n\\n\\n== Philosophy ==\\n\\n\\n=== Reality ===\\nThe connection between mathematics and material reality has led to philosophical debates since at least the time of Pythagoras. The ancient philosopher Plato argued that abstractions that reflect material reality have themselves a reality that exists outside space and time. As a result, the philosophical view that mathematical objects somehow exist on their own in abstraction is often referred to as Platonism. Independently of their possible philosophical opinions, modern mathematicians may be generally considered as Platonists, since they think of and talk of their objects of study as real objects.\\nArmand Borel summarized this view of mathematics reality as follows, and provided quotations of G. H. Hardy, Charles Hermite, Henri Poincaré and Albert Einstein that support his views.\\n\\n Something becomes objective (as opposed to \"subjective\") as soon as we are convinced that it exists in the minds of others in the same form as it does in ours and that we can think about it and discuss it together. Because the language of mathematics is so precise, it is ideally suited to defining concepts for which such a consensus exists. In my opinion, that is sufficient to provide us with a feeling of an objective existence, of a reality of mathematics ...\\nNevertheless, Platonism and the concurrent views on abstraction do not explain the unreasonable effectiveness of mathematics.\\n\\n\\n=== Proposed definitions ===\\n\\nThere is no general consensus about the definition of mathematics or its epistemological status—that is, its place inside knowledge. A great many professional mathematicians take no interest in a definition of mathematics, or consider it undefinable. There is not even consensus on whether mathematics is an art or a science. Some just say, \"mathematics is what mathematicians do\". A common approach is to define mathematics by its object of study.\\nAristotle defined mathematics as \"the science of quantity\" and this definition prevailed until the 18th century. However, Aristotle also noted a focus on quantity alone may not distinguish mathematics from sciences like physics; in his view, abstraction and studying quantity as a property \"separable in thought\" from real instances set mathematics apart. In the 19th century, when mathematicians began to address topics—such as infinite sets—which have no clear-cut relation to physical reality, a variety of new definitions were given. With the large number of new areas of mathematics that have appeared since the beginning of the 20th century, defining mathematics by its object of study has become increasingly difficult. For example, in lieu of a definition, Saunders Mac Lane in Mathematics, form and function summarizes the basics of several areas of mathematics, emphasizing their inter-connectedness, and observes:\\n\\nthe development of Mathematics provides a tightly connected network of formal rules, concepts, and systems.  Nodes of this network are closely bound to procedures useful in human activities and to questions arising in science. The transition from activities to the formal Mathematical systems is guided by a variety of general insights and ideas.\\nAnother approach for defining mathematics is to use its methods. For example, an area of study is often qualified as mathematics as soon as one can prove theorems—assertions whose validity relies on a proof, that is, a purely-logical deduction.\\n\\n\\n=== Rigor ===\\n\\nMathematical reasoning requires rigor. This means that the definitions must be absolutely unambiguous and the proofs must be reducible to a succession of applications of inference rules, without any use of empirical evidence and intuition. Rigorous reasoning is not specific to mathematics, but, in mathematics, the standard of rigor is much higher than elsewhere. Despite mathematics\\' concision, rigorous proofs can require hundreds of pages to express, such as the 255-page Feit–Thompson theorem. The emergence of computer-assisted proofs has allowed proof lengths to further expand.  The result of this trend is a philosophy of the quasi-empiricist proof that can not be considered infallible, but has a probability attached to it.\\nThe concept of rigor in mathematics dates back to ancient Greece, where their society encouraged logical, deductive reasoning. However, this rigorous approach would tend to discourage exploration of new approaches, such as irrational numbers and concepts of infinity. The method of demonstrating rigorous proof was enhanced in the sixteenth century through the use of symbolic notation. In the 18th century, social transition led to mathematicians earning their keep through teaching, which led to more careful thinking about the underlying concepts of mathematics. This produced more rigorous approaches, while transitioning from geometric methods to algebraic and then arithmetic proofs.\\nAt the end of the 19th century, it appeared that the definitions of the basic concepts of mathematics were not accurate enough for avoiding paradoxes (non-Euclidean geometries and Weierstrass function) and contradictions (Russell\\'s paradox). This was solved by the inclusion of axioms with the apodictic inference rules of mathematical theories; the re-introduction of axiomatic method pioneered by the ancient Greeks. It results that \"rigor\" is no more a relevant concept in mathematics, as a proof is either correct or erroneous, and a \"rigorous proof\" is simply a pleonasm. Where a special concept of rigor comes into play is in the socialized aspects of a proof, wherein it may be demonstrably refuted by other mathematicians. After a proof has been accepted for many years or even decades, it can then be considered as reliable.\\nNevertheless, the concept of \"rigor\" may remain useful for teaching to beginners what is a mathematical proof.\\n\\n\\n== Training and practice ==\\n\\n\\n=== Education ===\\n\\nMathematics has a remarkable ability to cross cultural boundaries and time periods. As a human activity, the practice of mathematics has a social side, which includes education, careers, recognition, popularization, and so on. In education, mathematics is a core part of the curriculum and forms an important element of the STEM academic disciplines. Prominent careers for professional mathematicians include math teacher or professor, statistician, actuary, financial analyst, economist, accountant, commodity trader, or computer consultant.\\nArchaeological evidence shows that instruction in mathematics occurred as early as the second millennium BCE in ancient Babylonia. Comparable evidence has been unearthed for scribal mathematics training in the ancient Near East and then for the Greco-Roman world starting around 300 BCE. The oldest known mathematics textbook is the Rhind papyrus, dated from c.\\u20091650 BCE in Egypt. Due to a scarcity of books, mathematical teachings in ancient India were communicated using memorized oral tradition since the Vedic period (c.\\u20091500 – c.\\u2009500 BCE). In Imperial China during the Tang dynasty (618–907 CE), a mathematics curriculum was adopted for the civil service exam to join the state bureaucracy.\\nFollowing the Dark Ages, mathematics education in Europe was provided by religious schools as part of the Quadrivium. Formal instruction in pedagogy began with Jesuit schools in the 16th and 17th century. Most mathematical curricula remained at a basic and practical level until the nineteenth century, when it began to flourish in France and Germany. The oldest journal addressing instruction in mathematics was L\\'Enseignement Mathématique, which began publication in 1899. The Western advancements in science and technology led to the establishment of centralized education systems in many nation-states, with mathematics as a core component—initially for its military applications. While the content of courses varies, in the present day nearly all countries teach mathematics to students for significant amounts of time.\\nDuring school, mathematical capabilities and positive expectations have a strong association with career interest in the field. Extrinsic factors such as feedback motivation by teachers, parents, and peer groups can influence the level of interest in mathematics. Some students studying math may develop an apprehension or fear about their performance in the subject. This is known as math anxiety or math phobia, and is considered the most prominent of the disorders impacting academic performance. Math anxiety can develop due to various factors such as parental and teacher attitudes, social stereotypes, and personal traits. Help to counteract the anxiety can come from changes in instructional approaches, by interactions with parents and teachers, and by tailored treatments for the individual.\\n\\n\\n=== Psychology (aesthetic, creativity and intuition) ===\\nThe validity of a mathematical theorem relies only on the rigor of its proof, which could theoretically be done automatically by a computer program. This does not mean that there is no place for creativity in a mathematical work. On the contrary, many important mathematical results (theorems) are solutions of problems that other mathematicians failed to solve, and the invention of a way for solving them may be a fundamental way of the solving process. An extreme example is Apery\\'s theorem: Roger Apery provided only the ideas for a proof, and the formal proof was given only several months later by three other mathematicians.\\nCreativity and rigor are not the only psychological aspects of the activity of mathematicians. Some mathematicians can see their activity as a game, more specifically as solving puzzles. This aspect of mathematical activity is emphasized in recreational mathematics.\\nMathematicians can find an aesthetic value to mathematics. Like beauty, it is hard to define, it is commonly related to elegance, which involves qualities like simplicity, symmetry, completeness, and generality. G. H. Hardy in A Mathematician\\'s Apology expressed the belief that the aesthetic considerations are, in themselves, sufficient to justify the study of pure mathematics. He also identified other criteria such as significance, unexpectedness, and inevitability, which contribute to mathematical aesthetics. Paul Erdős expressed this sentiment more ironically by speaking of \"The Book\", a supposed divine collection of the most beautiful proofs. The 1998 book Proofs from THE BOOK, inspired by Erdős, is a collection of particularly succinct and revelatory mathematical arguments. Some examples of particularly elegant results included are Euclid\\'s proof that there are infinitely many prime numbers and the fast Fourier transform for harmonic analysis.\\nSome feel that to consider mathematics a science is to downplay its artistry and history in the seven traditional liberal arts. One way this difference of viewpoint plays out is in the philosophical debate as to whether mathematical results are created (as in art) or discovered (as in science). The popularity of recreational mathematics is another sign of the pleasure many find in solving mathematical questions.\\n\\n\\n== Cultural impact ==\\n\\n\\n=== Artistic expression ===\\n\\nNotes that sound well together to a Western ear are sounds whose fundamental frequencies of vibration are in simple ratios. For example, an octave doubles the frequency and a perfect fifth multiplies it by \\n  \\n    \\n      \\n        \\n          \\n            3\\n            2\\n          \\n        \\n      \\n    \\n    {\\\\displaystyle {\\\\frac {3}{2}}}\\n  \\n.\\n\\nHumans, as well as some other animals, find symmetric patterns to be more beautiful. Mathematically, the symmetries of an object form a group known as the symmetry group. For example, the group underlying mirror symmetry is the cyclic group of two elements, \\n  \\n    \\n      \\n        \\n          Z\\n        \\n        \\n          /\\n        \\n        2\\n        \\n          Z\\n        \\n      \\n    \\n    {\\\\displaystyle \\\\mathbb {Z} /2\\\\mathbb {Z} }\\n  \\n. A Rorschach test is a figure invariant by this symmetry, as are butterfly and animal bodies more generally (at least on the surface). Waves on the sea surface possess translation symmetry: moving one\\'s viewpoint by the distance between wave crests does not change one\\'s view of the sea. Fractals possess self-similarity.\\n\\n\\n=== Popularization ===\\nPopular mathematics is the act of presenting mathematics without technical terms. Presenting mathematics may be hard since the general public suffers from mathematical anxiety and mathematical objects are highly abstract. However, popular mathematics writing can overcome this by using applications or cultural links. Despite this, mathematics is rarely the topic of popularization in printed or televised media.\\n\\n\\n=== Awards and prize problems ===\\n\\nThe most prestigious award in mathematics is the Fields Medal, established in 1936 and awarded every four years (except around World War II) to up to four individuals. It is considered the mathematical equivalent of the Nobel Prize.\\nOther prestigious mathematics awards include:\\n\\nThe Abel Prize, instituted in 2002 and first awarded in 2003\\nThe Chern Medal for lifetime achievement, introduced in 2009 and first awarded in 2010\\nThe AMS Leroy P. Steele Prize, awarded since 1970\\nThe Wolf Prize in Mathematics, also for lifetime achievement, instituted in 1978\\nA famous list of 23 open problems, called \"Hilbert\\'s problems\", was compiled in 1900 by German mathematician David Hilbert. This list has achieved great celebrity among mathematicians, and at least thirteen of the problems (depending how some are interpreted) have been solved.\\nA new list of seven important problems, titled the \"Millennium Prize Problems\", was published in 2000. Only one of them, the Riemann hypothesis, duplicates one of Hilbert\\'s problems. A solution to any of these problems carries a 1 million dollar reward. To date, only one of these problems, the Poincaré conjecture, has been solved by the Russian mathematician Grigori Perelman.\\n\\n\\n== See also ==\\n\\n\\n== References ==\\n\\n\\n=== Notes ===\\n\\n\\n=== Citations ===\\n\\n\\n=== Sources ===\\n\\n\\n== Further reading =='"
            ],
            "application/vnd.google.colaboratory.intrinsic+json": {
              "type": "string"
            }
          },
          "metadata": {},
          "execution_count": 5
        }
      ]
    },
    {
      "cell_type": "code",
      "source": [
        "!pip install huggingface_hub -q\n",
        "\n",
        "from huggingface_hub import InferenceClient\n",
        "\n",
        "TOKEN = 'YOUR TOKEN'\n",
        "MODEL = 'deepseek-ai/DeepSeek-R1-Distill-Qwen-32B'\n",
        "client = InferenceClient(MODEL, token=TOKEN)"
      ],
      "metadata": {
        "id": "0C0E-74aCSb-"
      },
      "execution_count": 9,
      "outputs": []
    },
    {
      "cell_type": "code",
      "source": [
        "N = 10 # number of core entities to extract\n",
        "\n",
        "\"\"\"\n",
        "extracts:\n",
        "  - named entities\n",
        "  - kewords\n",
        "  - concepts\n",
        "\"\"\""
      ],
      "metadata": {
        "id": "P3vK3Zj2DhnJ"
      },
      "execution_count": null,
      "outputs": []
    },
    {
      "cell_type": "code",
      "source": [
        "core_system = f\"\"\"extract {N} collocations descibing key concepts, keywords, named entities from the provided source\"\"\""
      ],
      "metadata": {
        "id": "r1DJHGkBDvzp"
      },
      "execution_count": 13,
      "outputs": []
    },
    {
      "cell_type": "code",
      "source": [
        "# extract entities\n",
        "\n",
        "core_concepts = client.chat.completions.create(messages=[{\"role\": \"system\", \"content\": core_system},\n",
        "                                                         {\"role\": \"user\", \"content\": text},\n",
        "                                                         ],\n",
        "                                               response_format={\"type\": \"json\",\n",
        "                                                                \"value\": {\"properties\": {\"core_concepts\": {\"type\": \"array\", \"items\": {\"type\": \"string\"}},}}},\n",
        "                                               stream=False,\n",
        "                                               max_tokens=1024,\n",
        "                                               temperature=0.7,\n",
        "                                               top_p=0.1\n",
        "                                               ).choices[0].get('message')['content']"
      ],
      "metadata": {
        "id": "raEJN1SkCimv"
      },
      "execution_count": 15,
      "outputs": []
    },
    {
      "cell_type": "code",
      "source": [
        "import ast\n",
        "\n",
        "core_concepts = ast.literal_eval(core_concepts)"
      ],
      "metadata": {
        "id": "sLz4UfpWDbBS"
      },
      "execution_count": 18,
      "outputs": []
    },
    {
      "cell_type": "code",
      "source": [
        "core_concepts"
      ],
      "metadata": {
        "colab": {
          "base_uri": "https://localhost:8080/"
        },
        "id": "zJLUUX-1E9HD",
        "outputId": "209ae1da-2e75-461c-8c5d-035afafbc437"
      },
      "execution_count": 19,
      "outputs": [
        {
          "output_type": "execute_result",
          "data": {
            "text/plain": [
              "{'core_concepts': ['Mathematics',\n",
              "  'Number Theory',\n",
              "  'Algebra',\n",
              "  'Geometry',\n",
              "  'Calculus',\n",
              "  'Analysis',\n",
              "  'Discrete Mathematics',\n",
              "  'Mathematical Logic',\n",
              "  'Set Theory',\n",
              "  'Statistics']}"
            ]
          },
          "metadata": {},
          "execution_count": 19
        }
      ]
    },
    {
      "cell_type": "code",
      "source": [
        "\"\"\"\n",
        "generate graph network from extracted concepts:\n",
        "  1. extract related concepts (collocations)\n",
        "  2. find intersections\n",
        "  3. generate predicates\n",
        "  4. build the graph\n",
        "\"\"\"\n",
        "\n",
        "rel_system = \"\"\"extract 5-10 most repesentative collocations from the provided source that are related to the provided concept\"\"\""
      ],
      "metadata": {
        "id": "YlNUw4FxFD30"
      },
      "execution_count": 56,
      "outputs": []
    },
    {
      "cell_type": "code",
      "source": [
        "# extract related concepts\n",
        "\n",
        "def extract_relations(word):\n",
        "  return ast.literal_eval(client.chat.completions.create(messages=[{\"role\": \"system\", \"content\": rel_system},\n",
        "                                                                   {\"role\": \"user\", \"content\": f\"concept = {word}, source = {text}\"},\n",
        "                                                                  ],\n",
        "                                                         response_format={\"type\": \"json\",\n",
        "                                                                          \"value\": {\"properties\": {\"related_concepts\": {\"type\": \"array\", \"items\": {\"type\": \"string\"}},}}},\n",
        "                                                         stream=False,\n",
        "                                                         max_tokens=512,\n",
        "                                                         temperature=0.7,\n",
        "                                                         top_p=0.1\n",
        "                                                         ).choices[0].get('message')['content'])"
      ],
      "metadata": {
        "id": "QaJcrMz9GOGp"
      },
      "execution_count": 57,
      "outputs": []
    },
    {
      "cell_type": "code",
      "source": [
        "relations = {word: extract_relations(word) for word in core_concepts['core_concepts']}"
      ],
      "metadata": {
        "id": "PXlWLravHISm"
      },
      "execution_count": 58,
      "outputs": []
    },
    {
      "cell_type": "code",
      "source": [
        "relations"
      ],
      "metadata": {
        "colab": {
          "base_uri": "https://localhost:8080/"
        },
        "id": "9aSf4gXCHZad",
        "outputId": "d34d6281-cc67-4e25-cbc8-bb7a0ea33459"
      },
      "execution_count": 59,
      "outputs": [
        {
          "output_type": "execute_result",
          "data": {
            "text/plain": [
              "{'Mathematics': {'related_concepts': ['Mathematics',\n",
              "   'Number Theory',\n",
              "   'Geometry',\n",
              "   'Algebra',\n",
              "   'Calculus',\n",
              "   'Discrete Mathematics',\n",
              "   'Mathematical Logic',\n",
              "   'Set Theory',\n",
              "   'Statistics',\n",
              "   'Computational Mathematics']},\n",
              " 'Number Theory': {'related_concepts': ['Number Theory',\n",
              "   'Mathematics',\n",
              "   'Algebra',\n",
              "   'Geometry',\n",
              "   'Calculus',\n",
              "   'Analysis',\n",
              "   'Discrete Mathematics',\n",
              "   'Mathematical Logic',\n",
              "   'Set Theory',\n",
              "   'Statistics']},\n",
              " 'Algebra': {'related_concepts': ['Mathematics',\n",
              "   'Algebra',\n",
              "   'Number Theory',\n",
              "   'Geometry',\n",
              "   'Calculus',\n",
              "   'Discrete Mathematics',\n",
              "   'Mathematical Logic',\n",
              "   'Set Theory',\n",
              "   'Statistics',\n",
              "   'Computational Mathematics']},\n",
              " 'Geometry': {'related_concepts': ['Geometry',\n",
              "   'Mathematics',\n",
              "   'Shapes',\n",
              "   'Space',\n",
              "   'Theorems',\n",
              "   'Proofs',\n",
              "   'Euclidean Geometry',\n",
              "   'Non-Euclidean Geometry',\n",
              "   'Algebraic Geometry',\n",
              "   'Differential Geometry']},\n",
              " 'Calculus': {'related_concepts': ['Mathematics',\n",
              "   'Calculus',\n",
              "   'Analysis',\n",
              "   'Algebra',\n",
              "   'Geometry',\n",
              "   'Number Theory',\n",
              "   'Discrete Mathematics',\n",
              "   'Mathematical Logic',\n",
              "   'Set Theory',\n",
              "   'Statistics']},\n",
              " 'Analysis': {'related_concepts': ['Analysis',\n",
              "   'Mathematics',\n",
              "   'Calculus',\n",
              "   'Algebra',\n",
              "   'Geometry',\n",
              "   'Number Theory',\n",
              "   'Set Theory',\n",
              "   'Mathematical Logic',\n",
              "   'Statistics',\n",
              "   'Discrete Mathematics']},\n",
              " 'Discrete Mathematics': {'related_concepts': ['Discrete Mathematics']},\n",
              " 'Mathematical Logic': {'related_concepts': ['Mathematical Logic',\n",
              "   'Set Theory',\n",
              "   'Proof Theory',\n",
              "   'Model Theory',\n",
              "   'Recursion Theory',\n",
              "   'Formal Systems',\n",
              "   'Axiomatic Method',\n",
              "   'Mathematical Rigour',\n",
              "   'Foundations of Mathematics',\n",
              "   'Mathematical Structures']},\n",
              " 'Set Theory': {'related_concepts': ['Set Theory',\n",
              "   'Mathematics',\n",
              "   'Foundations of Mathematics',\n",
              "   'Mathematical Logic',\n",
              "   'Axiomatic Method',\n",
              "   'Mathematical Proof',\n",
              "   'Mathematical Objects',\n",
              "   'Mathematical Structures',\n",
              "   'Mathematical Rigour',\n",
              "   'Mathematical Axioms']},\n",
              " 'Statistics': {'related_concepts': ['Mathematics',\n",
              "   'Statistics',\n",
              "   'Applied Mathematics',\n",
              "   'Probability Theory',\n",
              "   'Data Analysis',\n",
              "   'Mathematical Modeling',\n",
              "   'Theoretical Mathematics',\n",
              "   'Mathematical Proof',\n",
              "   'Mathematical Logic',\n",
              "   'Mathematical Structures']}}"
            ]
          },
          "metadata": {},
          "execution_count": 59
        }
      ]
    },
    {
      "cell_type": "code",
      "source": [
        "\"\"\"\n",
        "generate graph network from extracted concepts:\n",
        "  1. extract related concepts (collocations) > done\n",
        "  2. find intersections > done\n",
        "  3. generate predicates\n",
        "  4. build the graph\n",
        "\"\"\"\n",
        "\n",
        "pred_system = \"\"\"define the relationship between two words: generate a verb or a phrase decribing a relationship between two entities; return a predicate for a knowledge graph triplet\"\"\""
      ],
      "metadata": {
        "id": "iaj3saVPNAVG"
      },
      "execution_count": 61,
      "outputs": []
    },
    {
      "cell_type": "code",
      "source": [
        "# extract predicates\n",
        "\n",
        "def extract_relations(subj, obj):\n",
        "  return ast.literal_eval(client.chat.completions.create(messages=[{\"role\": \"system\", \"content\": pred_system},\n",
        "                                                                   {\"role\": \"user\", \"content\": f\"what is the relationship between {subj} and {obj}? return a predicate only\"},\n",
        "                                                                  ],\n",
        "                                                         response_format={\"type\": \"json\",\n",
        "                                                                          \"value\": {\"properties\": {\"predicate\": {\"type\": \"string\"},}}},\n",
        "                                                         stream=False,\n",
        "                                                         max_tokens=512,\n",
        "                                                         temperature=0.7,\n",
        "                                                         top_p=0.1\n",
        "                                                         ).choices[0].get('message')['content'])['predicate']"
      ],
      "metadata": {
        "id": "LxTWDBuDNlbP"
      },
      "execution_count": 67,
      "outputs": []
    },
    {
      "cell_type": "code",
      "source": [
        "triplets = dict()\n",
        "\n",
        "for subj in relations:\n",
        "  triplets[subj] = list()\n",
        "  for obj in relations[subj]['related_concepts']:\n",
        "    temp = {'subject': subj, 'predicate': '', 'object': ''}\n",
        "    temp['object'] = obj\n",
        "    temp['predicate'] = extract_relations(subj, obj)\n",
        "    if temp['subject'] != temp['object']:\n",
        "      triplets[subj].append(temp)"
      ],
      "metadata": {
        "id": "pBEIe9HXOEIS"
      },
      "execution_count": 154,
      "outputs": []
    },
    {
      "cell_type": "code",
      "source": [
        "triplets"
      ],
      "metadata": {
        "colab": {
          "base_uri": "https://localhost:8080/"
        },
        "id": "mHD37X3QtfSZ",
        "outputId": "453a709a-6f84-4e93-cfbf-b1d1d67ff229"
      },
      "execution_count": 155,
      "outputs": [
        {
          "output_type": "execute_result",
          "data": {
            "text/plain": [
              "{'Mathematics': [{'subject': 'Mathematics',\n",
              "   'predicate': 'is a branch of',\n",
              "   'object': 'Number Theory'},\n",
              "  {'subject': 'Mathematics',\n",
              "   'predicate': 'is a branch of',\n",
              "   'object': 'Geometry'},\n",
              "  {'subject': 'Mathematics',\n",
              "   'predicate': 'is a branch of',\n",
              "   'object': 'Algebra'},\n",
              "  {'subject': 'Mathematics',\n",
              "   'predicate': 'is a branch of',\n",
              "   'object': 'Calculus'},\n",
              "  {'subject': 'Mathematics',\n",
              "   'predicate': 'is a branch of',\n",
              "   'object': 'Discrete Mathematics'},\n",
              "  {'subject': 'Mathematics',\n",
              "   'predicate': 'is a branch of',\n",
              "   'object': 'Mathematical Logic'},\n",
              "  {'subject': 'Mathematics',\n",
              "   'predicate': 'is a branch of',\n",
              "   'object': 'Set Theory'},\n",
              "  {'subject': 'Mathematics',\n",
              "   'predicate': 'is a branch of',\n",
              "   'object': 'Statistics'},\n",
              "  {'subject': 'Mathematics',\n",
              "   'predicate': 'is a specialized field of',\n",
              "   'object': 'Computational Mathematics'}],\n",
              " 'Number Theory': [{'subject': 'Number Theory',\n",
              "   'predicate': 'is a branch of',\n",
              "   'object': 'Mathematics'},\n",
              "  {'subject': 'Number Theory',\n",
              "   'predicate': 'is a branch of',\n",
              "   'object': 'Algebra'},\n",
              "  {'subject': 'Number Theory',\n",
              "   'predicate': 'is related to',\n",
              "   'object': 'Geometry'},\n",
              "  {'subject': 'Number Theory',\n",
              "   'predicate': 'is a branch of',\n",
              "   'object': 'Calculus'},\n",
              "  {'subject': 'Number Theory',\n",
              "   'predicate': 'is a branch of',\n",
              "   'object': 'Analysis'},\n",
              "  {'subject': 'Number Theory',\n",
              "   'predicate': 'is a branch of',\n",
              "   'object': 'Discrete Mathematics'},\n",
              "  {'subject': 'Number Theory',\n",
              "   'predicate': 'is a branch of',\n",
              "   'object': 'Mathematical Logic'},\n",
              "  {'subject': 'Number Theory',\n",
              "   'predicate': 'is a branch of',\n",
              "   'object': 'Set Theory'},\n",
              "  {'subject': 'Number Theory',\n",
              "   'predicate': 'is a branch of',\n",
              "   'object': 'Statistics'}],\n",
              " 'Algebra': [{'subject': 'Algebra',\n",
              "   'predicate': 'is a branch of',\n",
              "   'object': 'Mathematics'},\n",
              "  {'subject': 'Algebra',\n",
              "   'predicate': 'is a branch of',\n",
              "   'object': 'Number Theory'},\n",
              "  {'subject': 'Algebra', 'predicate': 'is a branch of', 'object': 'Geometry'},\n",
              "  {'subject': 'Algebra',\n",
              "   'predicate': 'is a prerequisite for',\n",
              "   'object': 'Calculus'},\n",
              "  {'subject': 'Algebra',\n",
              "   'predicate': 'is a branch of',\n",
              "   'object': 'Discrete Mathematics'},\n",
              "  {'subject': 'Algebra',\n",
              "   'predicate': 'is a branch of',\n",
              "   'object': 'Mathematical Logic'},\n",
              "  {'subject': 'Algebra',\n",
              "   'predicate': 'is a branch of',\n",
              "   'object': 'Set Theory'},\n",
              "  {'subject': 'Algebra',\n",
              "   'predicate': 'is a branch of',\n",
              "   'object': 'Statistics'},\n",
              "  {'subject': 'Algebra',\n",
              "   'predicate': 'is a branch of',\n",
              "   'object': 'Computational Mathematics'}],\n",
              " 'Geometry': [{'subject': 'Geometry',\n",
              "   'predicate': 'is a branch of',\n",
              "   'object': 'Mathematics'},\n",
              "  {'subject': 'Geometry', 'predicate': 'studies', 'object': 'Shapes'},\n",
              "  {'subject': 'Geometry', 'predicate': 'studies', 'object': 'Space'},\n",
              "  {'subject': 'Geometry', 'predicate': 'includes', 'object': 'Theorems'},\n",
              "  {'subject': 'Geometry', 'predicate': 'is a branch of', 'object': 'Proofs'},\n",
              "  {'subject': 'Geometry',\n",
              "   'predicate': 'is a type of',\n",
              "   'object': 'Euclidean Geometry'},\n",
              "  {'subject': 'Geometry',\n",
              "   'predicate': 'is a type of',\n",
              "   'object': 'Non-Euclidean Geometry'},\n",
              "  {'subject': 'Geometry',\n",
              "   'predicate': 'is a branch of',\n",
              "   'object': 'Algebraic Geometry'},\n",
              "  {'subject': 'Geometry',\n",
              "   'predicate': 'is a branch of',\n",
              "   'object': 'Differential Geometry'}],\n",
              " 'Calculus': [{'subject': 'Calculus',\n",
              "   'predicate': 'is a branch of',\n",
              "   'object': 'Mathematics'},\n",
              "  {'subject': 'Calculus', 'predicate': 'is a branch of', 'object': 'Analysis'},\n",
              "  {'subject': 'Calculus', 'predicate': 'is a branch of', 'object': 'Algebra'},\n",
              "  {'subject': 'Calculus', 'predicate': 'is a branch of', 'object': 'Geometry'},\n",
              "  {'subject': 'Calculus',\n",
              "   'predicate': 'is related to',\n",
              "   'object': 'Number Theory'},\n",
              "  {'subject': 'Calculus',\n",
              "   'predicate': 'is a branch of',\n",
              "   'object': 'Discrete Mathematics'},\n",
              "  {'subject': 'Calculus',\n",
              "   'predicate': 'is a branch of',\n",
              "   'object': 'Mathematical Logic'},\n",
              "  {'subject': 'Calculus',\n",
              "   'predicate': 'is a branch of',\n",
              "   'object': 'Set Theory'},\n",
              "  {'subject': 'Calculus',\n",
              "   'predicate': 'is a prerequisite for',\n",
              "   'object': 'Statistics'}],\n",
              " 'Analysis': [{'subject': 'Analysis',\n",
              "   'predicate': 'is a branch of',\n",
              "   'object': 'Mathematics'},\n",
              "  {'subject': 'Analysis', 'predicate': 'is a branch of', 'object': 'Calculus'},\n",
              "  {'subject': 'Analysis', 'predicate': 'is a branch of', 'object': 'Algebra'},\n",
              "  {'subject': 'Analysis', 'predicate': 'is a branch of', 'object': 'Geometry'},\n",
              "  {'subject': 'Analysis',\n",
              "   'predicate': 'is a branch of',\n",
              "   'object': 'Number Theory'},\n",
              "  {'subject': 'Analysis',\n",
              "   'predicate': 'is a branch of',\n",
              "   'object': 'Set Theory'},\n",
              "  {'subject': 'Analysis',\n",
              "   'predicate': 'is a branch of',\n",
              "   'object': 'Mathematical Logic'},\n",
              "  {'subject': 'Analysis',\n",
              "   'predicate': 'is a branch of',\n",
              "   'object': 'Statistics'},\n",
              "  {'subject': 'Analysis',\n",
              "   'predicate': 'is a branch of',\n",
              "   'object': 'Discrete Mathematics'}],\n",
              " 'Discrete Mathematics': [],\n",
              " 'Mathematical Logic': [{'subject': 'Mathematical Logic',\n",
              "   'predicate': 'is a branch of',\n",
              "   'object': 'Set Theory'},\n",
              "  {'subject': 'Mathematical Logic',\n",
              "   'predicate': 'is a branch of',\n",
              "   'object': 'Proof Theory'},\n",
              "  {'subject': 'Mathematical Logic',\n",
              "   'predicate': 'is a branch of',\n",
              "   'object': 'Model Theory'},\n",
              "  {'subject': 'Mathematical Logic',\n",
              "   'predicate': 'is a branch of',\n",
              "   'object': 'Recursion Theory'},\n",
              "  {'subject': 'Mathematical Logic',\n",
              "   'predicate': 'is a branch of',\n",
              "   'object': 'Formal Systems'},\n",
              "  {'subject': 'Mathematical Logic',\n",
              "   'predicate': 'is a branch of',\n",
              "   'object': 'Axiomatic Method'},\n",
              "  {'subject': 'Mathematical Logic',\n",
              "   'predicate': 'is a key component of',\n",
              "   'object': 'Mathematical Rigour'},\n",
              "  {'subject': 'Mathematical Logic',\n",
              "   'predicate': 'is a branch of',\n",
              "   'object': 'Foundations of Mathematics'},\n",
              "  {'subject': 'Mathematical Logic',\n",
              "   'predicate': 'is a branch of',\n",
              "   'object': 'Mathematical Structures'}],\n",
              " 'Set Theory': [{'subject': 'Set Theory',\n",
              "   'predicate': 'is a branch of',\n",
              "   'object': 'Mathematics'},\n",
              "  {'subject': 'Set Theory',\n",
              "   'predicate': 'is a branch of',\n",
              "   'object': 'Foundations of Mathematics'},\n",
              "  {'subject': 'Set Theory',\n",
              "   'predicate': 'is a branch of',\n",
              "   'object': 'Mathematical Logic'},\n",
              "  {'subject': 'Set Theory',\n",
              "   'predicate': 'is a foundation of',\n",
              "   'object': 'Axiomatic Method'},\n",
              "  {'subject': 'Set Theory',\n",
              "   'predicate': 'is a foundation of',\n",
              "   'object': 'Mathematical Proof'},\n",
              "  {'subject': 'Set Theory',\n",
              "   'predicate': 'studies',\n",
              "   'object': 'Mathematical Objects'},\n",
              "  {'subject': 'Set Theory',\n",
              "   'predicate': 'is a branch of',\n",
              "   'object': 'Mathematical Structures'},\n",
              "  {'subject': 'Set Theory',\n",
              "   'predicate': 'is a foundation of',\n",
              "   'object': 'Mathematical Rigour'},\n",
              "  {'subject': 'Set Theory',\n",
              "   'predicate': 'is a branch of',\n",
              "   'object': 'Mathematical Axioms'}],\n",
              " 'Statistics': [{'subject': 'Statistics',\n",
              "   'predicate': 'is a branch of',\n",
              "   'object': 'Mathematics'},\n",
              "  {'subject': 'Statistics',\n",
              "   'predicate': 'is a branch of',\n",
              "   'object': 'Applied Mathematics'},\n",
              "  {'subject': 'Statistics',\n",
              "   'predicate': 'is a branch of',\n",
              "   'object': 'Probability Theory'},\n",
              "  {'subject': 'Statistics',\n",
              "   'predicate': 'is a branch of',\n",
              "   'object': 'Data Analysis'},\n",
              "  {'subject': 'Statistics',\n",
              "   'predicate': 'is a branch of',\n",
              "   'object': 'Mathematical Modeling'},\n",
              "  {'subject': 'Statistics',\n",
              "   'predicate': 'is a branch of',\n",
              "   'object': 'Theoretical Mathematics'},\n",
              "  {'subject': 'Statistics',\n",
              "   'predicate': 'is a branch of',\n",
              "   'object': 'Mathematical Proof'},\n",
              "  {'subject': 'Statistics',\n",
              "   'predicate': 'is a branch of',\n",
              "   'object': 'Mathematical Logic'},\n",
              "  {'subject': 'Statistics',\n",
              "   'predicate': 'is a branch of',\n",
              "   'object': 'Mathematical Structures'}]}"
            ]
          },
          "metadata": {},
          "execution_count": 155
        }
      ]
    },
    {
      "cell_type": "code",
      "source": [
        "import plotly.graph_objects as go\n",
        "import networkx as nx\n",
        "from collections import Counter\n",
        "import random\n",
        "\n",
        "# Prepare nodes and edges\n",
        "nodes = set()\n",
        "edges = []\n",
        "\n",
        "for key, values in triplets.items():\n",
        "    for rel in values:\n",
        "        nodes.add(rel['subject'])\n",
        "        nodes.add(rel['object'])\n",
        "        edges.append((rel['subject'], rel['object'], rel['predicate']))\n",
        "\n",
        "# Create a networkx graph\n",
        "G = nx.Graph()\n",
        "\n",
        "# Add nodes and edges to the graph\n",
        "for edge in edges:\n",
        "    G.add_edge(edge[0], edge[1], label=edge[2])\n",
        "\n",
        "# Generate positions for nodes using force-directed layout with more space\n",
        "pos = nx.spring_layout(G, seed=42)  # Increasing k for more spacing\n",
        "\n",
        "# Extract node and edge data for Plotly\n",
        "node_x = [pos[node][0] for node in G.nodes()]\n",
        "node_y = [pos[node][1] for node in G.nodes()]\n",
        "node_labels = list(G.nodes())\n",
        "\n",
        "# Count connections\n",
        "node_degrees = Counter([node for edge in edges for node in edge[:2]])\n",
        "\n",
        "# Assign distinct colors for each predicate (use a set to avoid duplicates)\n",
        "unique_predicates = list(set([edge[2] for edge in edges]))\n",
        "predicate_colors = {predicate: f'rgba({random.randint(0,255)},{random.randint(0,255)},{random.randint(0,255)},1)'\n",
        "                    for predicate in unique_predicates}\n",
        "\n",
        "# Plotly data for edges\n",
        "edge_x = []\n",
        "edge_y = []\n",
        "\n",
        "for edge in edges:\n",
        "    x0, y0 = pos[edge[0]]\n",
        "    x1, y1 = pos[edge[1]]\n",
        "    edge_x += [x0, x1, None]\n",
        "    edge_y += [y0, y1, None]\n",
        "\n",
        "# Create the figure\n",
        "fig = go.Figure()\n",
        "\n",
        "# Add edges\n",
        "fig.add_trace(go.Scatter(\n",
        "    x=edge_x, y=edge_y,\n",
        "    line=dict(width=0.5, color='#888'),\n",
        "    hoverinfo='text',\n",
        "    mode='lines'\n",
        "))\n",
        "\n",
        "# Add nodes with uniform size and labels\n",
        "fig.add_trace(go.Scatter(\n",
        "    x=node_x, y=node_y,\n",
        "    mode='markers+text',\n",
        "    marker=dict(\n",
        "        size=25,  # Uniform node size for all nodes\n",
        "        color=[node_degrees[node] for node in node_labels],\n",
        "        #colorscale='Viridis',\n",
        "        colorbar=dict(title='Connections')\n",
        "    ),\n",
        "    text=node_labels,\n",
        "    hoverinfo='text',\n",
        "    textposition='top center',\n",
        "    textfont=dict(size=13, weight=\"bold\")\n",
        "))\n",
        "\n",
        "# Add predicate labels near the nodes with black text\n",
        "for edge in edges:\n",
        "    x0, y0 = pos[edge[0]]\n",
        "    x1, y1 = pos[edge[1]]\n",
        "    predicate_label = edge[2]\n",
        "\n",
        "    # Calculate the midpoint of the edge and add small offsets to create spacing\n",
        "    mid_x = (x0 + x1) / 2\n",
        "    mid_y = (y0 + y1) / 2\n",
        "\n",
        "    # Add the label near the midpoint of the edge with black text\n",
        "    fig.add_trace(go.Scatter(\n",
        "        x=[mid_x], y=[mid_y],\n",
        "        mode='text',\n",
        "        text=[predicate_label],\n",
        "        textposition='middle center',\n",
        "        showlegend=False,\n",
        "        textfont=dict(size=10)\n",
        "    ))\n",
        "\n",
        "# Update layout\n",
        "fig.update_layout(\n",
        "    showlegend=False,\n",
        "    margin=dict(l=0, r=0, t=0, b=0),\n",
        "    xaxis=dict(showgrid=False, zeroline=False),\n",
        "    yaxis=dict(showgrid=False, zeroline=False),\n",
        "    title=\"Force-Directed Graph with Predicate Labels on Nodes\"\n",
        ")\n",
        "\n",
        "fig.show()"
      ],
      "metadata": {
        "colab": {
          "base_uri": "https://localhost:8080/",
          "height": 542
        },
        "id": "wSmQuc9Oav0P",
        "outputId": "7f469916-2733-4107-c921-52b65fa7c086"
      },
      "execution_count": 156,
      "outputs": [
        {
          "output_type": "display_data",
          "data": {
            "text/html": [
              "<html>\n",
              "<head><meta charset=\"utf-8\" /></head>\n",
              "<body>\n",
              "    <div>            <script src=\"https://cdnjs.cloudflare.com/ajax/libs/mathjax/2.7.5/MathJax.js?config=TeX-AMS-MML_SVG\"></script><script type=\"text/javascript\">if (window.MathJax && window.MathJax.Hub && window.MathJax.Hub.Config) {window.MathJax.Hub.Config({SVG: {font: \"STIX-Web\"}});}</script>                <script type=\"text/javascript\">window.PlotlyConfig = {MathJaxConfig: 'local'};</script>\n",
              "        <script charset=\"utf-8\" src=\"https://cdn.plot.ly/plotly-2.35.2.min.js\"></script>                <div id=\"8f5399ca-6581-4ce0-a9cf-f993b5b0f20a\" class=\"plotly-graph-div\" style=\"height:525px; width:100%;\"></div>            <script type=\"text/javascript\">                                    window.PLOTLYENV=window.PLOTLYENV || {};                                    if (document.getElementById(\"8f5399ca-6581-4ce0-a9cf-f993b5b0f20a\")) {                    Plotly.newPlot(                        \"8f5399ca-6581-4ce0-a9cf-f993b5b0f20a\",                        [{\"hoverinfo\":\"text\",\"line\":{\"color\":\"#888\",\"width\":0.5},\"mode\":\"lines\",\"x\":[-0.11208861621314668,-0.004614782537148173,null,-0.11208861621314668,-0.511152368674654,null,-0.11208861621314668,-0.09464647756266405,null,-0.11208861621314668,-0.023798606979907596,null,-0.11208861621314668,-0.24825326510061413,null,-0.11208861621314668,0.40391293856808375,null,-0.11208861621314668,0.2922644710482335,null,-0.11208861621314668,0.06374829931178747,null,-0.11208861621314668,-0.3864705973272202,null,-0.004614782537148173,-0.11208861621314668,null,-0.004614782537148173,-0.09464647756266405,null,-0.004614782537148173,-0.511152368674654,null,-0.004614782537148173,-0.023798606979907596,null,-0.004614782537148173,-0.014347371780797943,null,-0.004614782537148173,-0.24825326510061413,null,-0.004614782537148173,0.40391293856808375,null,-0.004614782537148173,0.2922644710482335,null,-0.004614782537148173,0.06374829931178747,null,-0.09464647756266405,-0.11208861621314668,null,-0.09464647756266405,-0.004614782537148173,null,-0.09464647756266405,-0.511152368674654,null,-0.09464647756266405,-0.023798606979907596,null,-0.09464647756266405,-0.24825326510061413,null,-0.09464647756266405,0.40391293856808375,null,-0.09464647756266405,0.2922644710482335,null,-0.09464647756266405,0.06374829931178747,null,-0.09464647756266405,-0.3864705973272202,null,-0.511152368674654,-0.11208861621314668,null,-0.511152368674654,-1.0,null,-0.511152368674654,-0.8821192283479231,null,-0.511152368674654,-0.915314201592773,null,-0.511152368674654,-0.7975049216801298,null,-0.511152368674654,-0.6396609758357394,null,-0.511152368674654,-0.9971845011672906,null,-0.511152368674654,-0.4730761140449557,null,-0.511152368674654,-0.8327952184415026,null,-0.023798606979907596,-0.11208861621314668,null,-0.023798606979907596,-0.014347371780797943,null,-0.023798606979907596,-0.09464647756266405,null,-0.023798606979907596,-0.511152368674654,null,-0.023798606979907596,-0.004614782537148173,null,-0.023798606979907596,-0.24825326510061413,null,-0.023798606979907596,0.40391293856808375,null,-0.023798606979907596,0.2922644710482335,null,-0.023798606979907596,0.06374829931178747,null,-0.014347371780797943,-0.11208861621314668,null,-0.014347371780797943,-0.023798606979907596,null,-0.014347371780797943,-0.09464647756266405,null,-0.014347371780797943,-0.511152368674654,null,-0.014347371780797943,-0.004614782537148173,null,-0.014347371780797943,0.2922644710482335,null,-0.014347371780797943,0.40391293856808375,null,-0.014347371780797943,0.06374829931178747,null,-0.014347371780797943,-0.24825326510061413,null,0.40391293856808375,0.2922644710482335,null,0.40391293856808375,0.9132728881065202,null,0.40391293856808375,0.9192060030244542,null,0.40391293856808375,0.8619883708953444,null,0.40391293856808375,0.7335935372376282,null,0.40391293856808375,0.6441039559560074,null,0.40391293856808375,0.5107436253704372,null,0.40391293856808375,0.6483532648017981,null,0.40391293856808375,0.40094835575671095,null,0.2922644710482335,-0.11208861621314668,null,0.2922644710482335,0.6483532648017981,null,0.2922644710482335,0.40391293856808375,null,0.2922644710482335,0.6441039559560074,null,0.2922644710482335,0.31262717560336634,null,0.2922644710482335,0.5994337339963842,null,0.2922644710482335,0.40094835575671095,null,0.2922644710482335,0.5107436253704372,null,0.2922644710482335,0.3769543468585691,null,0.06374829931178747,-0.11208861621314668,null,0.06374829931178747,0.20402764475021745,null,0.06374829931178747,0.27210903217775756,null,0.06374829931178747,-0.08007013074540859,null,0.06374829931178747,-0.23768605875030133,null,0.06374829931178747,0.09349579331887456,null,0.06374829931178747,0.31262717560336634,null,0.06374829931178747,0.40391293856808375,null,0.06374829931178747,0.40094835575671095,null],\"y\":[0.022327905685823986,0.03239490935714212,null,0.022327905685823986,-0.27398812021572155,null,0.022327905685823986,0.09424048688424634,null,0.022327905685823986,-0.038431707532029194,null,0.022327905685823986,-0.06327741573880558,null,0.022327905685823986,0.0760096635088999,null,0.022327905685823986,-0.1071178081844208,null,0.022327905685823986,0.39159943355650506,null,0.022327905685823986,0.2536221706626007,null,0.03239490935714212,0.022327905685823986,null,0.03239490935714212,0.09424048688424634,null,0.03239490935714212,-0.27398812021572155,null,0.03239490935714212,-0.038431707532029194,null,0.03239490935714212,-0.10304566632786763,null,0.03239490935714212,-0.06327741573880558,null,0.03239490935714212,0.0760096635088999,null,0.03239490935714212,-0.1071178081844208,null,0.03239490935714212,0.39159943355650506,null,0.09424048688424634,0.022327905685823986,null,0.09424048688424634,0.03239490935714212,null,0.09424048688424634,-0.27398812021572155,null,0.09424048688424634,-0.038431707532029194,null,0.09424048688424634,-0.06327741573880558,null,0.09424048688424634,0.0760096635088999,null,0.09424048688424634,-0.1071178081844208,null,0.09424048688424634,0.39159943355650506,null,0.09424048688424634,0.2536221706626007,null,-0.27398812021572155,0.022327905685823986,null,-0.27398812021572155,-0.47322394223836173,null,-0.27398812021572155,-0.034690569955732505,null,-0.27398812021572155,-0.31998536908303865,null,-0.27398812021572155,-0.6831409090020973,null,-0.27398812021572155,-0.7352077095751028,null,-0.27398812021572155,-0.175957451843483,null,-0.27398812021572155,-0.7013563597830346,null,-0.27398812021572155,-0.52903060664788,null,-0.038431707532029194,0.022327905685823986,null,-0.038431707532029194,-0.10304566632786763,null,-0.038431707532029194,0.09424048688424634,null,-0.038431707532029194,-0.27398812021572155,null,-0.038431707532029194,0.03239490935714212,null,-0.038431707532029194,-0.06327741573880558,null,-0.038431707532029194,0.0760096635088999,null,-0.038431707532029194,-0.1071178081844208,null,-0.038431707532029194,0.39159943355650506,null,-0.10304566632786763,0.022327905685823986,null,-0.10304566632786763,-0.038431707532029194,null,-0.10304566632786763,0.09424048688424634,null,-0.10304566632786763,-0.27398812021572155,null,-0.10304566632786763,0.03239490935714212,null,-0.10304566632786763,-0.1071178081844208,null,-0.10304566632786763,0.0760096635088999,null,-0.10304566632786763,0.39159943355650506,null,-0.10304566632786763,-0.06327741573880558,null,0.0760096635088999,-0.1071178081844208,null,0.0760096635088999,0.1437356419751481,null,0.0760096635088999,-0.06170367233924421,null,0.0760096635088999,0.316441206994959,null,0.0760096635088999,0.4598813908654112,null,0.0760096635088999,-0.19184802509018903,null,0.0760096635088999,-0.27474630976666325,null,0.0760096635088999,-0.02883381109286002,null,0.0760096635088999,0.2596336755230206,null,-0.1071178081844208,0.022327905685823986,null,-0.1071178081844208,-0.02883381109286002,null,-0.1071178081844208,0.0760096635088999,null,-0.1071178081844208,-0.19184802509018903,null,-0.1071178081844208,0.37072765473349195,null,-0.1071178081844208,-0.5247123284763627,null,-0.1071178081844208,0.2596336755230206,null,-0.1071178081844208,-0.27474630976666325,null,-0.1071178081844208,-0.5867076649414869,null,0.39159943355650506,0.022327905685823986,null,0.39159943355650506,0.15380582730354328,null,0.39159943355650506,0.8355835568059784,null,0.39159943355650506,0.8562112896187613,null,0.39159943355650506,0.7582153678778996,null,0.39159943355650506,0.8825752664809449,null,0.39159943355650506,0.37072765473349195,null,0.39159943355650506,0.0760096635088999,null,0.39159943355650506,0.2596336755230206,null],\"type\":\"scatter\"},{\"hoverinfo\":\"text\",\"marker\":{\"color\":[16,13,14,13,13,5,16,15,14,2,11,1,1,1,1,1,1,1,1,1,1,1,1,2,2,2,3,2,1,1,1,1,1,1,1],\"colorbar\":{\"title\":{\"text\":\"Connections\"}},\"size\":25},\"mode\":\"markers+text\",\"text\":[\"Mathematics\",\"Number Theory\",\"Geometry\",\"Algebra\",\"Calculus\",\"Discrete Mathematics\",\"Mathematical Logic\",\"Set Theory\",\"Statistics\",\"Computational Mathematics\",\"Analysis\",\"Shapes\",\"Space\",\"Theorems\",\"Proofs\",\"Euclidean Geometry\",\"Non-Euclidean Geometry\",\"Algebraic Geometry\",\"Differential Geometry\",\"Proof Theory\",\"Model Theory\",\"Recursion Theory\",\"Formal Systems\",\"Axiomatic Method\",\"Mathematical Rigour\",\"Foundations of Mathematics\",\"Mathematical Structures\",\"Mathematical Proof\",\"Mathematical Objects\",\"Mathematical Axioms\",\"Applied Mathematics\",\"Probability Theory\",\"Data Analysis\",\"Mathematical Modeling\",\"Theoretical Mathematics\"],\"textfont\":{\"size\":13,\"weight\":\"bold\"},\"textposition\":\"top center\",\"x\":[-0.11208861621314668,-0.004614782537148173,-0.511152368674654,-0.09464647756266405,-0.023798606979907596,-0.24825326510061413,0.40391293856808375,0.2922644710482335,0.06374829931178747,-0.3864705973272202,-0.014347371780797943,-1.0,-0.8821192283479231,-0.915314201592773,-0.7975049216801298,-0.6396609758357394,-0.9971845011672906,-0.4730761140449557,-0.8327952184415026,0.9132728881065202,0.9192060030244542,0.8619883708953444,0.7335935372376282,0.6441039559560074,0.5107436253704372,0.6483532648017981,0.40094835575671095,0.31262717560336634,0.5994337339963842,0.3769543468585691,0.20402764475021745,0.27210903217775756,-0.08007013074540859,-0.23768605875030133,0.09349579331887456],\"y\":[0.022327905685823986,0.03239490935714212,-0.27398812021572155,0.09424048688424634,-0.038431707532029194,-0.06327741573880558,0.0760096635088999,-0.1071178081844208,0.39159943355650506,0.2536221706626007,-0.10304566632786763,-0.47322394223836173,-0.034690569955732505,-0.31998536908303865,-0.6831409090020973,-0.7352077095751028,-0.175957451843483,-0.7013563597830346,-0.52903060664788,0.1437356419751481,-0.06170367233924421,0.316441206994959,0.4598813908654112,-0.19184802509018903,-0.27474630976666325,-0.02883381109286002,0.2596336755230206,0.37072765473349195,-0.5247123284763627,-0.5867076649414869,0.15380582730354328,0.8355835568059784,0.8562112896187613,0.7582153678778996,0.8825752664809449],\"type\":\"scatter\"},{\"mode\":\"text\",\"showlegend\":false,\"text\":[\"is a branch of\"],\"textfont\":{\"size\":10},\"textposition\":\"middle center\",\"x\":[-0.05835169937514743],\"y\":[0.027361407521483055],\"type\":\"scatter\"},{\"mode\":\"text\",\"showlegend\":false,\"text\":[\"is a branch of\"],\"textfont\":{\"size\":10},\"textposition\":\"middle center\",\"x\":[-0.31162049244390033],\"y\":[-0.12583010726494878],\"type\":\"scatter\"},{\"mode\":\"text\",\"showlegend\":false,\"text\":[\"is a branch of\"],\"textfont\":{\"size\":10},\"textposition\":\"middle center\",\"x\":[-0.10336754688790536],\"y\":[0.058284196285035166],\"type\":\"scatter\"},{\"mode\":\"text\",\"showlegend\":false,\"text\":[\"is a branch of\"],\"textfont\":{\"size\":10},\"textposition\":\"middle center\",\"x\":[-0.06794361159652713],\"y\":[-0.008051900923102604],\"type\":\"scatter\"},{\"mode\":\"text\",\"showlegend\":false,\"text\":[\"is a branch of\"],\"textfont\":{\"size\":10},\"textposition\":\"middle center\",\"x\":[-0.1801709406568804],\"y\":[-0.020474755026490793],\"type\":\"scatter\"},{\"mode\":\"text\",\"showlegend\":false,\"text\":[\"is a branch of\"],\"textfont\":{\"size\":10},\"textposition\":\"middle center\",\"x\":[0.14591216117746852],\"y\":[0.049168784597361945],\"type\":\"scatter\"},{\"mode\":\"text\",\"showlegend\":false,\"text\":[\"is a branch of\"],\"textfont\":{\"size\":10},\"textposition\":\"middle center\",\"x\":[0.0900879274175434],\"y\":[-0.04239495124929841],\"type\":\"scatter\"},{\"mode\":\"text\",\"showlegend\":false,\"text\":[\"is a branch of\"],\"textfont\":{\"size\":10},\"textposition\":\"middle center\",\"x\":[-0.02417015845067961],\"y\":[0.20696366962116453],\"type\":\"scatter\"},{\"mode\":\"text\",\"showlegend\":false,\"text\":[\"is a specialized field of\"],\"textfont\":{\"size\":10},\"textposition\":\"middle center\",\"x\":[-0.24927960677018346],\"y\":[0.13797503817421233],\"type\":\"scatter\"},{\"mode\":\"text\",\"showlegend\":false,\"text\":[\"is a branch of\"],\"textfont\":{\"size\":10},\"textposition\":\"middle center\",\"x\":[-0.05835169937514743],\"y\":[0.027361407521483055],\"type\":\"scatter\"},{\"mode\":\"text\",\"showlegend\":false,\"text\":[\"is a branch of\"],\"textfont\":{\"size\":10},\"textposition\":\"middle center\",\"x\":[-0.04963063004990611],\"y\":[0.06331769812069424],\"type\":\"scatter\"},{\"mode\":\"text\",\"showlegend\":false,\"text\":[\"is related to\"],\"textfont\":{\"size\":10},\"textposition\":\"middle center\",\"x\":[-0.2578835756059011],\"y\":[-0.12079660542928972],\"type\":\"scatter\"},{\"mode\":\"text\",\"showlegend\":false,\"text\":[\"is a branch of\"],\"textfont\":{\"size\":10},\"textposition\":\"middle center\",\"x\":[-0.014206694758527885],\"y\":[-0.0030183990874435365],\"type\":\"scatter\"},{\"mode\":\"text\",\"showlegend\":false,\"text\":[\"is a branch of\"],\"textfont\":{\"size\":10},\"textposition\":\"middle center\",\"x\":[-0.009481077158973058],\"y\":[-0.035325378485362754],\"type\":\"scatter\"},{\"mode\":\"text\",\"showlegend\":false,\"text\":[\"is a branch of\"],\"textfont\":{\"size\":10},\"textposition\":\"middle center\",\"x\":[-0.12643402381888116],\"y\":[-0.015441253190831727],\"type\":\"scatter\"},{\"mode\":\"text\",\"showlegend\":false,\"text\":[\"is a branch of\"],\"textfont\":{\"size\":10},\"textposition\":\"middle center\",\"x\":[0.19964907801546777],\"y\":[0.05420228643302101],\"type\":\"scatter\"},{\"mode\":\"text\",\"showlegend\":false,\"text\":[\"is a branch of\"],\"textfont\":{\"size\":10},\"textposition\":\"middle center\",\"x\":[0.14382484425554265],\"y\":[-0.03736144941363934],\"type\":\"scatter\"},{\"mode\":\"text\",\"showlegend\":false,\"text\":[\"is a branch of\"],\"textfont\":{\"size\":10},\"textposition\":\"middle center\",\"x\":[0.029566758387319647],\"y\":[0.2119971714568236],\"type\":\"scatter\"},{\"mode\":\"text\",\"showlegend\":false,\"text\":[\"is a branch of\"],\"textfont\":{\"size\":10},\"textposition\":\"middle center\",\"x\":[-0.10336754688790536],\"y\":[0.058284196285035166],\"type\":\"scatter\"},{\"mode\":\"text\",\"showlegend\":false,\"text\":[\"is a branch of\"],\"textfont\":{\"size\":10},\"textposition\":\"middle center\",\"x\":[-0.04963063004990611],\"y\":[0.06331769812069424],\"type\":\"scatter\"},{\"mode\":\"text\",\"showlegend\":false,\"text\":[\"is a branch of\"],\"textfont\":{\"size\":10},\"textposition\":\"middle center\",\"x\":[-0.30289942311865903],\"y\":[-0.0898738166657376],\"type\":\"scatter\"},{\"mode\":\"text\",\"showlegend\":false,\"text\":[\"is a prerequisite for\"],\"textfont\":{\"size\":10},\"textposition\":\"middle center\",\"x\":[-0.05922254227128582],\"y\":[0.027904389676108574],\"type\":\"scatter\"},{\"mode\":\"text\",\"showlegend\":false,\"text\":[\"is a branch of\"],\"textfont\":{\"size\":10},\"textposition\":\"middle center\",\"x\":[-0.17144987133163908],\"y\":[0.015481535572720383],\"type\":\"scatter\"},{\"mode\":\"text\",\"showlegend\":false,\"text\":[\"is a branch of\"],\"textfont\":{\"size\":10},\"textposition\":\"middle center\",\"x\":[0.15463323050270986],\"y\":[0.08512507519657311],\"type\":\"scatter\"},{\"mode\":\"text\",\"showlegend\":false,\"text\":[\"is a branch of\"],\"textfont\":{\"size\":10},\"textposition\":\"middle center\",\"x\":[0.09880899674278473],\"y\":[-0.006438660650087233],\"type\":\"scatter\"},{\"mode\":\"text\",\"showlegend\":false,\"text\":[\"is a branch of\"],\"textfont\":{\"size\":10},\"textposition\":\"middle center\",\"x\":[-0.015449089125438291],\"y\":[0.2429199602203757],\"type\":\"scatter\"},{\"mode\":\"text\",\"showlegend\":false,\"text\":[\"is a branch of\"],\"textfont\":{\"size\":10},\"textposition\":\"middle center\",\"x\":[-0.24055853744494213],\"y\":[0.17393132877342352],\"type\":\"scatter\"},{\"mode\":\"text\",\"showlegend\":false,\"text\":[\"is a branch of\"],\"textfont\":{\"size\":10},\"textposition\":\"middle center\",\"x\":[-0.31162049244390033],\"y\":[-0.12583010726494878],\"type\":\"scatter\"},{\"mode\":\"text\",\"showlegend\":false,\"text\":[\"studies\"],\"textfont\":{\"size\":10},\"textposition\":\"middle center\",\"x\":[-0.755576184337327],\"y\":[-0.3736060312270416],\"type\":\"scatter\"},{\"mode\":\"text\",\"showlegend\":false,\"text\":[\"studies\"],\"textfont\":{\"size\":10},\"textposition\":\"middle center\",\"x\":[-0.6966357985112885],\"y\":[-0.15433934508572703],\"type\":\"scatter\"},{\"mode\":\"text\",\"showlegend\":false,\"text\":[\"includes\"],\"textfont\":{\"size\":10},\"textposition\":\"middle center\",\"x\":[-0.7132332851337135],\"y\":[-0.29698674464938013],\"type\":\"scatter\"},{\"mode\":\"text\",\"showlegend\":false,\"text\":[\"is a branch of\"],\"textfont\":{\"size\":10},\"textposition\":\"middle center\",\"x\":[-0.6543286451773919],\"y\":[-0.4785645146089095],\"type\":\"scatter\"},{\"mode\":\"text\",\"showlegend\":false,\"text\":[\"is a type of\"],\"textfont\":{\"size\":10},\"textposition\":\"middle center\",\"x\":[-0.5754066722551967],\"y\":[-0.5045979148954122],\"type\":\"scatter\"},{\"mode\":\"text\",\"showlegend\":false,\"text\":[\"is a type of\"],\"textfont\":{\"size\":10},\"textposition\":\"middle center\",\"x\":[-0.7541684349209723],\"y\":[-0.22497278602960227],\"type\":\"scatter\"},{\"mode\":\"text\",\"showlegend\":false,\"text\":[\"is a branch of\"],\"textfont\":{\"size\":10},\"textposition\":\"middle center\",\"x\":[-0.49211424135980486],\"y\":[-0.48767223999937803],\"type\":\"scatter\"},{\"mode\":\"text\",\"showlegend\":false,\"text\":[\"is a branch of\"],\"textfont\":{\"size\":10},\"textposition\":\"middle center\",\"x\":[-0.6719737935580783],\"y\":[-0.40150936343180077],\"type\":\"scatter\"},{\"mode\":\"text\",\"showlegend\":false,\"text\":[\"is a branch of\"],\"textfont\":{\"size\":10},\"textposition\":\"middle center\",\"x\":[-0.06794361159652713],\"y\":[-0.008051900923102604],\"type\":\"scatter\"},{\"mode\":\"text\",\"showlegend\":false,\"text\":[\"is a branch of\"],\"textfont\":{\"size\":10},\"textposition\":\"middle center\",\"x\":[-0.01907298938035277],\"y\":[-0.07073868692994842],\"type\":\"scatter\"},{\"mode\":\"text\",\"showlegend\":false,\"text\":[\"is a branch of\"],\"textfont\":{\"size\":10},\"textposition\":\"middle center\",\"x\":[-0.05922254227128582],\"y\":[0.027904389676108574],\"type\":\"scatter\"},{\"mode\":\"text\",\"showlegend\":false,\"text\":[\"is a branch of\"],\"textfont\":{\"size\":10},\"textposition\":\"middle center\",\"x\":[-0.26747548782728076],\"y\":[-0.15620991387387537],\"type\":\"scatter\"},{\"mode\":\"text\",\"showlegend\":false,\"text\":[\"is related to\"],\"textfont\":{\"size\":10},\"textposition\":\"middle center\",\"x\":[-0.014206694758527885],\"y\":[-0.0030183990874435365],\"type\":\"scatter\"},{\"mode\":\"text\",\"showlegend\":false,\"text\":[\"is a branch of\"],\"textfont\":{\"size\":10},\"textposition\":\"middle center\",\"x\":[-0.13602593604026086],\"y\":[-0.050854561635417385],\"type\":\"scatter\"},{\"mode\":\"text\",\"showlegend\":false,\"text\":[\"is a branch of\"],\"textfont\":{\"size\":10},\"textposition\":\"middle center\",\"x\":[0.19005716579408807],\"y\":[0.018788977988435353],\"type\":\"scatter\"},{\"mode\":\"text\",\"showlegend\":false,\"text\":[\"is a branch of\"],\"textfont\":{\"size\":10},\"textposition\":\"middle center\",\"x\":[0.13423293203416295],\"y\":[-0.072774757858225],\"type\":\"scatter\"},{\"mode\":\"text\",\"showlegend\":false,\"text\":[\"is a prerequisite for\"],\"textfont\":{\"size\":10},\"textposition\":\"middle center\",\"x\":[0.019974846165939933],\"y\":[0.17658386301223794],\"type\":\"scatter\"},{\"mode\":\"text\",\"showlegend\":false,\"text\":[\"is a branch of\"],\"textfont\":{\"size\":10},\"textposition\":\"middle center\",\"x\":[-0.06321799399697231],\"y\":[-0.04035888032102182],\"type\":\"scatter\"},{\"mode\":\"text\",\"showlegend\":false,\"text\":[\"is a branch of\"],\"textfont\":{\"size\":10},\"textposition\":\"middle center\",\"x\":[-0.01907298938035277],\"y\":[-0.07073868692994842],\"type\":\"scatter\"},{\"mode\":\"text\",\"showlegend\":false,\"text\":[\"is a branch of\"],\"textfont\":{\"size\":10},\"textposition\":\"middle center\",\"x\":[-0.05449692467173099],\"y\":[-0.004402589721810644],\"type\":\"scatter\"},{\"mode\":\"text\",\"showlegend\":false,\"text\":[\"is a branch of\"],\"textfont\":{\"size\":10},\"textposition\":\"middle center\",\"x\":[-0.26274987022772595],\"y\":[-0.1885168932717946],\"type\":\"scatter\"},{\"mode\":\"text\",\"showlegend\":false,\"text\":[\"is a branch of\"],\"textfont\":{\"size\":10},\"textposition\":\"middle center\",\"x\":[-0.009481077158973058],\"y\":[-0.035325378485362754],\"type\":\"scatter\"},{\"mode\":\"text\",\"showlegend\":false,\"text\":[\"is a branch of\"],\"textfont\":{\"size\":10},\"textposition\":\"middle center\",\"x\":[0.1389585496337178],\"y\":[-0.10508173725614423],\"type\":\"scatter\"},{\"mode\":\"text\",\"showlegend\":false,\"text\":[\"is a branch of\"],\"textfont\":{\"size\":10},\"textposition\":\"middle center\",\"x\":[0.1947827833936429],\"y\":[-0.013518001409483865],\"type\":\"scatter\"},{\"mode\":\"text\",\"showlegend\":false,\"text\":[\"is a branch of\"],\"textfont\":{\"size\":10},\"textposition\":\"middle center\",\"x\":[0.02470046376549476],\"y\":[0.14427688361431873],\"type\":\"scatter\"},{\"mode\":\"text\",\"showlegend\":false,\"text\":[\"is a branch of\"],\"textfont\":{\"size\":10},\"textposition\":\"middle center\",\"x\":[-0.13130031844070603],\"y\":[-0.0831615410333366],\"type\":\"scatter\"},{\"mode\":\"text\",\"showlegend\":false,\"text\":[\"is a branch of\"],\"textfont\":{\"size\":10},\"textposition\":\"middle center\",\"x\":[0.3480887048081586],\"y\":[-0.015554072337760454],\"type\":\"scatter\"},{\"mode\":\"text\",\"showlegend\":false,\"text\":[\"is a branch of\"],\"textfont\":{\"size\":10},\"textposition\":\"middle center\",\"x\":[0.658592913337302],\"y\":[0.109872652742024],\"type\":\"scatter\"},{\"mode\":\"text\",\"showlegend\":false,\"text\":[\"is a branch of\"],\"textfont\":{\"size\":10},\"textposition\":\"middle center\",\"x\":[0.661559470796269],\"y\":[0.007152995584827845],\"type\":\"scatter\"},{\"mode\":\"text\",\"showlegend\":false,\"text\":[\"is a branch of\"],\"textfont\":{\"size\":10},\"textposition\":\"middle center\",\"x\":[0.6329506547317141],\"y\":[0.19622543525192943],\"type\":\"scatter\"},{\"mode\":\"text\",\"showlegend\":false,\"text\":[\"is a branch of\"],\"textfont\":{\"size\":10},\"textposition\":\"middle center\",\"x\":[0.5687532379028559],\"y\":[0.26794552718715553],\"type\":\"scatter\"},{\"mode\":\"text\",\"showlegend\":false,\"text\":[\"is a branch of\"],\"textfont\":{\"size\":10},\"textposition\":\"middle center\",\"x\":[0.5240084472620457],\"y\":[-0.057919180790644564],\"type\":\"scatter\"},{\"mode\":\"text\",\"showlegend\":false,\"text\":[\"is a key component of\"],\"textfont\":{\"size\":10},\"textposition\":\"middle center\",\"x\":[0.45732828196926045],\"y\":[-0.09936832312888168],\"type\":\"scatter\"},{\"mode\":\"text\",\"showlegend\":false,\"text\":[\"is a branch of\"],\"textfont\":{\"size\":10},\"textposition\":\"middle center\",\"x\":[0.5261331016849409],\"y\":[0.02358792620801994],\"type\":\"scatter\"},{\"mode\":\"text\",\"showlegend\":false,\"text\":[\"is a branch of\"],\"textfont\":{\"size\":10},\"textposition\":\"middle center\",\"x\":[0.40243064716239735],\"y\":[0.16782166951596023],\"type\":\"scatter\"},{\"mode\":\"text\",\"showlegend\":false,\"text\":[\"is a branch of\"],\"textfont\":{\"size\":10},\"textposition\":\"middle center\",\"x\":[0.0900879274175434],\"y\":[-0.04239495124929841],\"type\":\"scatter\"},{\"mode\":\"text\",\"showlegend\":false,\"text\":[\"is a branch of\"],\"textfont\":{\"size\":10},\"textposition\":\"middle center\",\"x\":[0.4703088679250158],\"y\":[-0.06797580963864042],\"type\":\"scatter\"},{\"mode\":\"text\",\"showlegend\":false,\"text\":[\"is a branch of\"],\"textfont\":{\"size\":10},\"textposition\":\"middle center\",\"x\":[0.3480887048081586],\"y\":[-0.015554072337760454],\"type\":\"scatter\"},{\"mode\":\"text\",\"showlegend\":false,\"text\":[\"is a foundation of\"],\"textfont\":{\"size\":10},\"textposition\":\"middle center\",\"x\":[0.46818421350212047],\"y\":[-0.14948291663730492],\"type\":\"scatter\"},{\"mode\":\"text\",\"showlegend\":false,\"text\":[\"is a foundation of\"],\"textfont\":{\"size\":10},\"textposition\":\"middle center\",\"x\":[0.30244582332579995],\"y\":[0.13180492327453558],\"type\":\"scatter\"},{\"mode\":\"text\",\"showlegend\":false,\"text\":[\"studies\"],\"textfont\":{\"size\":10},\"textposition\":\"middle center\",\"x\":[0.44584910252230886],\"y\":[-0.3159150683303918],\"type\":\"scatter\"},{\"mode\":\"text\",\"showlegend\":false,\"text\":[\"is a branch of\"],\"textfont\":{\"size\":10},\"textposition\":\"middle center\",\"x\":[0.3466064134024722],\"y\":[0.0762579336692999],\"type\":\"scatter\"},{\"mode\":\"text\",\"showlegend\":false,\"text\":[\"is a foundation of\"],\"textfont\":{\"size\":10},\"textposition\":\"middle center\",\"x\":[0.40150404820933533],\"y\":[-0.19093205897554202],\"type\":\"scatter\"},{\"mode\":\"text\",\"showlegend\":false,\"text\":[\"is a branch of\"],\"textfont\":{\"size\":10},\"textposition\":\"middle center\",\"x\":[0.3346094089534013],\"y\":[-0.34691273656295385],\"type\":\"scatter\"},{\"mode\":\"text\",\"showlegend\":false,\"text\":[\"is a branch of\"],\"textfont\":{\"size\":10},\"textposition\":\"middle center\",\"x\":[-0.02417015845067961],\"y\":[0.20696366962116453],\"type\":\"scatter\"},{\"mode\":\"text\",\"showlegend\":false,\"text\":[\"is a branch of\"],\"textfont\":{\"size\":10},\"textposition\":\"middle center\",\"x\":[0.13388797203100244],\"y\":[0.2727026304300242],\"type\":\"scatter\"},{\"mode\":\"text\",\"showlegend\":false,\"text\":[\"is a branch of\"],\"textfont\":{\"size\":10},\"textposition\":\"middle center\",\"x\":[0.1679286657447725],\"y\":[0.6135914951812418],\"type\":\"scatter\"},{\"mode\":\"text\",\"showlegend\":false,\"text\":[\"is a branch of\"],\"textfont\":{\"size\":10},\"textposition\":\"middle center\",\"x\":[-0.00816091571681056],\"y\":[0.6239053615876331],\"type\":\"scatter\"},{\"mode\":\"text\",\"showlegend\":false,\"text\":[\"is a branch of\"],\"textfont\":{\"size\":10},\"textposition\":\"middle center\",\"x\":[-0.08696887971925693],\"y\":[0.5749074007172024],\"type\":\"scatter\"},{\"mode\":\"text\",\"showlegend\":false,\"text\":[\"is a branch of\"],\"textfont\":{\"size\":10},\"textposition\":\"middle center\",\"x\":[0.07862204631533101],\"y\":[0.637087350018725],\"type\":\"scatter\"},{\"mode\":\"text\",\"showlegend\":false,\"text\":[\"is a branch of\"],\"textfont\":{\"size\":10},\"textposition\":\"middle center\",\"x\":[0.1881877374575769],\"y\":[0.38116354414499853],\"type\":\"scatter\"},{\"mode\":\"text\",\"showlegend\":false,\"text\":[\"is a branch of\"],\"textfont\":{\"size\":10},\"textposition\":\"middle center\",\"x\":[0.23383061893993562],\"y\":[0.2338045485327025],\"type\":\"scatter\"},{\"mode\":\"text\",\"showlegend\":false,\"text\":[\"is a branch of\"],\"textfont\":{\"size\":10},\"textposition\":\"middle center\",\"x\":[0.23234832753424922],\"y\":[0.3256165545397628],\"type\":\"scatter\"}],                        {\"template\":{\"data\":{\"histogram2dcontour\":[{\"type\":\"histogram2dcontour\",\"colorbar\":{\"outlinewidth\":0,\"ticks\":\"\"},\"colorscale\":[[0.0,\"#0d0887\"],[0.1111111111111111,\"#46039f\"],[0.2222222222222222,\"#7201a8\"],[0.3333333333333333,\"#9c179e\"],[0.4444444444444444,\"#bd3786\"],[0.5555555555555556,\"#d8576b\"],[0.6666666666666666,\"#ed7953\"],[0.7777777777777778,\"#fb9f3a\"],[0.8888888888888888,\"#fdca26\"],[1.0,\"#f0f921\"]]}],\"choropleth\":[{\"type\":\"choropleth\",\"colorbar\":{\"outlinewidth\":0,\"ticks\":\"\"}}],\"histogram2d\":[{\"type\":\"histogram2d\",\"colorbar\":{\"outlinewidth\":0,\"ticks\":\"\"},\"colorscale\":[[0.0,\"#0d0887\"],[0.1111111111111111,\"#46039f\"],[0.2222222222222222,\"#7201a8\"],[0.3333333333333333,\"#9c179e\"],[0.4444444444444444,\"#bd3786\"],[0.5555555555555556,\"#d8576b\"],[0.6666666666666666,\"#ed7953\"],[0.7777777777777778,\"#fb9f3a\"],[0.8888888888888888,\"#fdca26\"],[1.0,\"#f0f921\"]]}],\"heatmap\":[{\"type\":\"heatmap\",\"colorbar\":{\"outlinewidth\":0,\"ticks\":\"\"},\"colorscale\":[[0.0,\"#0d0887\"],[0.1111111111111111,\"#46039f\"],[0.2222222222222222,\"#7201a8\"],[0.3333333333333333,\"#9c179e\"],[0.4444444444444444,\"#bd3786\"],[0.5555555555555556,\"#d8576b\"],[0.6666666666666666,\"#ed7953\"],[0.7777777777777778,\"#fb9f3a\"],[0.8888888888888888,\"#fdca26\"],[1.0,\"#f0f921\"]]}],\"heatmapgl\":[{\"type\":\"heatmapgl\",\"colorbar\":{\"outlinewidth\":0,\"ticks\":\"\"},\"colorscale\":[[0.0,\"#0d0887\"],[0.1111111111111111,\"#46039f\"],[0.2222222222222222,\"#7201a8\"],[0.3333333333333333,\"#9c179e\"],[0.4444444444444444,\"#bd3786\"],[0.5555555555555556,\"#d8576b\"],[0.6666666666666666,\"#ed7953\"],[0.7777777777777778,\"#fb9f3a\"],[0.8888888888888888,\"#fdca26\"],[1.0,\"#f0f921\"]]}],\"contourcarpet\":[{\"type\":\"contourcarpet\",\"colorbar\":{\"outlinewidth\":0,\"ticks\":\"\"}}],\"contour\":[{\"type\":\"contour\",\"colorbar\":{\"outlinewidth\":0,\"ticks\":\"\"},\"colorscale\":[[0.0,\"#0d0887\"],[0.1111111111111111,\"#46039f\"],[0.2222222222222222,\"#7201a8\"],[0.3333333333333333,\"#9c179e\"],[0.4444444444444444,\"#bd3786\"],[0.5555555555555556,\"#d8576b\"],[0.6666666666666666,\"#ed7953\"],[0.7777777777777778,\"#fb9f3a\"],[0.8888888888888888,\"#fdca26\"],[1.0,\"#f0f921\"]]}],\"surface\":[{\"type\":\"surface\",\"colorbar\":{\"outlinewidth\":0,\"ticks\":\"\"},\"colorscale\":[[0.0,\"#0d0887\"],[0.1111111111111111,\"#46039f\"],[0.2222222222222222,\"#7201a8\"],[0.3333333333333333,\"#9c179e\"],[0.4444444444444444,\"#bd3786\"],[0.5555555555555556,\"#d8576b\"],[0.6666666666666666,\"#ed7953\"],[0.7777777777777778,\"#fb9f3a\"],[0.8888888888888888,\"#fdca26\"],[1.0,\"#f0f921\"]]}],\"mesh3d\":[{\"type\":\"mesh3d\",\"colorbar\":{\"outlinewidth\":0,\"ticks\":\"\"}}],\"scatter\":[{\"fillpattern\":{\"fillmode\":\"overlay\",\"size\":10,\"solidity\":0.2},\"type\":\"scatter\"}],\"parcoords\":[{\"type\":\"parcoords\",\"line\":{\"colorbar\":{\"outlinewidth\":0,\"ticks\":\"\"}}}],\"scatterpolargl\":[{\"type\":\"scatterpolargl\",\"marker\":{\"colorbar\":{\"outlinewidth\":0,\"ticks\":\"\"}}}],\"bar\":[{\"error_x\":{\"color\":\"#2a3f5f\"},\"error_y\":{\"color\":\"#2a3f5f\"},\"marker\":{\"line\":{\"color\":\"#E5ECF6\",\"width\":0.5},\"pattern\":{\"fillmode\":\"overlay\",\"size\":10,\"solidity\":0.2}},\"type\":\"bar\"}],\"scattergeo\":[{\"type\":\"scattergeo\",\"marker\":{\"colorbar\":{\"outlinewidth\":0,\"ticks\":\"\"}}}],\"scatterpolar\":[{\"type\":\"scatterpolar\",\"marker\":{\"colorbar\":{\"outlinewidth\":0,\"ticks\":\"\"}}}],\"histogram\":[{\"marker\":{\"pattern\":{\"fillmode\":\"overlay\",\"size\":10,\"solidity\":0.2}},\"type\":\"histogram\"}],\"scattergl\":[{\"type\":\"scattergl\",\"marker\":{\"colorbar\":{\"outlinewidth\":0,\"ticks\":\"\"}}}],\"scatter3d\":[{\"type\":\"scatter3d\",\"line\":{\"colorbar\":{\"outlinewidth\":0,\"ticks\":\"\"}},\"marker\":{\"colorbar\":{\"outlinewidth\":0,\"ticks\":\"\"}}}],\"scattermapbox\":[{\"type\":\"scattermapbox\",\"marker\":{\"colorbar\":{\"outlinewidth\":0,\"ticks\":\"\"}}}],\"scatterternary\":[{\"type\":\"scatterternary\",\"marker\":{\"colorbar\":{\"outlinewidth\":0,\"ticks\":\"\"}}}],\"scattercarpet\":[{\"type\":\"scattercarpet\",\"marker\":{\"colorbar\":{\"outlinewidth\":0,\"ticks\":\"\"}}}],\"carpet\":[{\"aaxis\":{\"endlinecolor\":\"#2a3f5f\",\"gridcolor\":\"white\",\"linecolor\":\"white\",\"minorgridcolor\":\"white\",\"startlinecolor\":\"#2a3f5f\"},\"baxis\":{\"endlinecolor\":\"#2a3f5f\",\"gridcolor\":\"white\",\"linecolor\":\"white\",\"minorgridcolor\":\"white\",\"startlinecolor\":\"#2a3f5f\"},\"type\":\"carpet\"}],\"table\":[{\"cells\":{\"fill\":{\"color\":\"#EBF0F8\"},\"line\":{\"color\":\"white\"}},\"header\":{\"fill\":{\"color\":\"#C8D4E3\"},\"line\":{\"color\":\"white\"}},\"type\":\"table\"}],\"barpolar\":[{\"marker\":{\"line\":{\"color\":\"#E5ECF6\",\"width\":0.5},\"pattern\":{\"fillmode\":\"overlay\",\"size\":10,\"solidity\":0.2}},\"type\":\"barpolar\"}],\"pie\":[{\"automargin\":true,\"type\":\"pie\"}]},\"layout\":{\"autotypenumbers\":\"strict\",\"colorway\":[\"#636efa\",\"#EF553B\",\"#00cc96\",\"#ab63fa\",\"#FFA15A\",\"#19d3f3\",\"#FF6692\",\"#B6E880\",\"#FF97FF\",\"#FECB52\"],\"font\":{\"color\":\"#2a3f5f\"},\"hovermode\":\"closest\",\"hoverlabel\":{\"align\":\"left\"},\"paper_bgcolor\":\"white\",\"plot_bgcolor\":\"#E5ECF6\",\"polar\":{\"bgcolor\":\"#E5ECF6\",\"angularaxis\":{\"gridcolor\":\"white\",\"linecolor\":\"white\",\"ticks\":\"\"},\"radialaxis\":{\"gridcolor\":\"white\",\"linecolor\":\"white\",\"ticks\":\"\"}},\"ternary\":{\"bgcolor\":\"#E5ECF6\",\"aaxis\":{\"gridcolor\":\"white\",\"linecolor\":\"white\",\"ticks\":\"\"},\"baxis\":{\"gridcolor\":\"white\",\"linecolor\":\"white\",\"ticks\":\"\"},\"caxis\":{\"gridcolor\":\"white\",\"linecolor\":\"white\",\"ticks\":\"\"}},\"coloraxis\":{\"colorbar\":{\"outlinewidth\":0,\"ticks\":\"\"}},\"colorscale\":{\"sequential\":[[0.0,\"#0d0887\"],[0.1111111111111111,\"#46039f\"],[0.2222222222222222,\"#7201a8\"],[0.3333333333333333,\"#9c179e\"],[0.4444444444444444,\"#bd3786\"],[0.5555555555555556,\"#d8576b\"],[0.6666666666666666,\"#ed7953\"],[0.7777777777777778,\"#fb9f3a\"],[0.8888888888888888,\"#fdca26\"],[1.0,\"#f0f921\"]],\"sequentialminus\":[[0.0,\"#0d0887\"],[0.1111111111111111,\"#46039f\"],[0.2222222222222222,\"#7201a8\"],[0.3333333333333333,\"#9c179e\"],[0.4444444444444444,\"#bd3786\"],[0.5555555555555556,\"#d8576b\"],[0.6666666666666666,\"#ed7953\"],[0.7777777777777778,\"#fb9f3a\"],[0.8888888888888888,\"#fdca26\"],[1.0,\"#f0f921\"]],\"diverging\":[[0,\"#8e0152\"],[0.1,\"#c51b7d\"],[0.2,\"#de77ae\"],[0.3,\"#f1b6da\"],[0.4,\"#fde0ef\"],[0.5,\"#f7f7f7\"],[0.6,\"#e6f5d0\"],[0.7,\"#b8e186\"],[0.8,\"#7fbc41\"],[0.9,\"#4d9221\"],[1,\"#276419\"]]},\"xaxis\":{\"gridcolor\":\"white\",\"linecolor\":\"white\",\"ticks\":\"\",\"title\":{\"standoff\":15},\"zerolinecolor\":\"white\",\"automargin\":true,\"zerolinewidth\":2},\"yaxis\":{\"gridcolor\":\"white\",\"linecolor\":\"white\",\"ticks\":\"\",\"title\":{\"standoff\":15},\"zerolinecolor\":\"white\",\"automargin\":true,\"zerolinewidth\":2},\"scene\":{\"xaxis\":{\"backgroundcolor\":\"#E5ECF6\",\"gridcolor\":\"white\",\"linecolor\":\"white\",\"showbackground\":true,\"ticks\":\"\",\"zerolinecolor\":\"white\",\"gridwidth\":2},\"yaxis\":{\"backgroundcolor\":\"#E5ECF6\",\"gridcolor\":\"white\",\"linecolor\":\"white\",\"showbackground\":true,\"ticks\":\"\",\"zerolinecolor\":\"white\",\"gridwidth\":2},\"zaxis\":{\"backgroundcolor\":\"#E5ECF6\",\"gridcolor\":\"white\",\"linecolor\":\"white\",\"showbackground\":true,\"ticks\":\"\",\"zerolinecolor\":\"white\",\"gridwidth\":2}},\"shapedefaults\":{\"line\":{\"color\":\"#2a3f5f\"}},\"annotationdefaults\":{\"arrowcolor\":\"#2a3f5f\",\"arrowhead\":0,\"arrowwidth\":1},\"geo\":{\"bgcolor\":\"white\",\"landcolor\":\"#E5ECF6\",\"subunitcolor\":\"white\",\"showland\":true,\"showlakes\":true,\"lakecolor\":\"white\"},\"title\":{\"x\":0.05},\"mapbox\":{\"style\":\"light\"}}},\"margin\":{\"l\":0,\"r\":0,\"t\":0,\"b\":0},\"xaxis\":{\"showgrid\":false,\"zeroline\":false},\"yaxis\":{\"showgrid\":false,\"zeroline\":false},\"showlegend\":false,\"title\":{\"text\":\"Force-Directed Graph with Predicate Labels on Nodes\"}},                        {\"responsive\": true}                    ).then(function(){\n",
              "                            \n",
              "var gd = document.getElementById('8f5399ca-6581-4ce0-a9cf-f993b5b0f20a');\n",
              "var x = new MutationObserver(function (mutations, observer) {{\n",
              "        var display = window.getComputedStyle(gd).display;\n",
              "        if (!display || display === 'none') {{\n",
              "            console.log([gd, 'removed!']);\n",
              "            Plotly.purge(gd);\n",
              "            observer.disconnect();\n",
              "        }}\n",
              "}});\n",
              "\n",
              "// Listen for the removal of the full notebook cells\n",
              "var notebookContainer = gd.closest('#notebook-container');\n",
              "if (notebookContainer) {{\n",
              "    x.observe(notebookContainer, {childList: true});\n",
              "}}\n",
              "\n",
              "// Listen for the clearing of the current output cell\n",
              "var outputEl = gd.closest('.output');\n",
              "if (outputEl) {{\n",
              "    x.observe(outputEl, {childList: true});\n",
              "}}\n",
              "\n",
              "                        })                };                            </script>        </div>\n",
              "</body>\n",
              "</html>"
            ]
          },
          "metadata": {}
        }
      ]
    },
    {
      "cell_type": "code",
      "source": [
        "# Save the figure as an HTML file\n",
        "fig.write_html(\"graph_with_predicates.html\")"
      ],
      "metadata": {
        "id": "zGADciJlq2nS"
      },
      "execution_count": 157,
      "outputs": []
    },
    {
      "cell_type": "code",
      "source": [],
      "metadata": {
        "id": "oEobbN3fuf51"
      },
      "execution_count": null,
      "outputs": []
    }
  ]
}
